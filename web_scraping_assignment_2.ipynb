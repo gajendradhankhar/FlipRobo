{
 "cells": [
  {
   "cell_type": "code",
   "execution_count": 1,
   "metadata": {},
   "outputs": [],
   "source": [
    "import selenium\n",
    "import pandas as pd\n",
    "from selenium import webdriver\n",
    "import time"
   ]
  },
  {
   "cell_type": "markdown",
   "metadata": {},
   "source": [
    "# Q1: Write a python program to scrape data for “Data Analyst” Job position in “Bangalore” location. You have to scrape the job-title, job-location, company_name, experience_required. You have to scrape first 10 jobs data."
   ]
  },
  {
   "cell_type": "code",
   "execution_count": 2,
   "metadata": {},
   "outputs": [],
   "source": [
    "driver=webdriver.Chrome(\"chromedriver.exe\")"
   ]
  },
  {
   "cell_type": "code",
   "execution_count": 3,
   "metadata": {},
   "outputs": [],
   "source": [
    "# getting the data from website\n",
    "driver.get(\"https://www.naukri.com/\")"
   ]
  },
  {
   "cell_type": "code",
   "execution_count": 8,
   "metadata": {},
   "outputs": [],
   "source": [
    "#getting the web element for \"Skill,Designations,Companies” field\n",
    "search_job=driver.find_element_by_xpath(\"//input[@class='sugInp']\")"
   ]
  },
  {
   "cell_type": "code",
   "execution_count": 9,
   "metadata": {},
   "outputs": [],
   "source": [
    "# searching for data analyst \n",
    "search_job.send_keys(\"Data Analyst\")"
   ]
  },
  {
   "cell_type": "code",
   "execution_count": 11,
   "metadata": {},
   "outputs": [],
   "source": [
    "# searching and entering the work location field \n",
    "search_location=driver.find_element_by_id(\"qsb-location-sugg\")\n",
    "search_location.send_keys(\"Bangalore\")"
   ]
  },
  {
   "cell_type": "code",
   "execution_count": 12,
   "metadata": {},
   "outputs": [],
   "source": [
    "#searching the webelemnt for search button and clicking on it to get result.\n",
    "search_button=driver.find_element_by_xpath(\"//button[@class='btn']\")\n",
    "search_button.click()"
   ]
  },
  {
   "cell_type": "code",
   "execution_count": 16,
   "metadata": {},
   "outputs": [],
   "source": [
    "#getting the job title webelement \n",
    "job_search=driver.find_elements_by_xpath(\"//a[@class='title fw500 ellipsis']\")\n"
   ]
  },
  {
   "cell_type": "code",
   "execution_count": 72,
   "metadata": {},
   "outputs": [],
   "source": [
    "job_title=[]\n",
    "job_exp=[]\n",
    "job_location=[]\n",
    "job_salary=[]"
   ]
  },
  {
   "cell_type": "code",
   "execution_count": 85,
   "metadata": {},
   "outputs": [
    {
     "name": "stdout",
     "output_type": "stream",
     "text": [
      "10 10 10 10 0\n"
     ]
    }
   ],
   "source": [
    "print(len(job_exp),len(job_location),len(job_salary),len(job_title),len(company_name))"
   ]
  },
  {
   "cell_type": "code",
   "execution_count": 78,
   "metadata": {},
   "outputs": [
    {
     "data": {
      "text/plain": [
       "['Data Scientist / Data Analyst -Business Analyst',\n",
       " 'Data Analyst',\n",
       " 'Senior Security Specialist - CS Awareness & Data Analyst',\n",
       " 'Senior Data Analyst',\n",
       " 'Data analysts',\n",
       " 'Data analysts',\n",
       " 'Data Analyst',\n",
       " 'Data Analyst (Data Stewards)//Immediate Joiners//Bangalore',\n",
       " 'Senior Data Analyst',\n",
       " 'Data Analyst']"
      ]
     },
     "execution_count": 78,
     "metadata": {},
     "output_type": "execute_result"
    }
   ],
   "source": [
    "for i in job_search:\n",
    "    job_title.append(i.text.replace('\\n',''))\n",
    "job_title[:10]"
   ]
  },
  {
   "cell_type": "code",
   "execution_count": 84,
   "metadata": {},
   "outputs": [
    {
     "data": {
      "text/plain": [
       "10"
      ]
     },
     "execution_count": 84,
     "metadata": {},
     "output_type": "execute_result"
    }
   ],
   "source": [
    "job_title=job_title[:10]\n",
    "job_exp=job_exp[:10]\n",
    "job_location=job_location[:10]\n",
    "job_salary=job_salary[:10]\n",
    "len(job_title)"
   ]
  },
  {
   "cell_type": "code",
   "execution_count": 27,
   "metadata": {},
   "outputs": [
    {
     "data": {
      "text/plain": [
       "[<selenium.webdriver.remote.webelement.WebElement (session=\"8d266e5c60cfc01782bcf0d6c02c6ac6\", element=\"8cc394bb-766d-43ba-a85d-beb1b6632478\")>,\n",
       " <selenium.webdriver.remote.webelement.WebElement (session=\"8d266e5c60cfc01782bcf0d6c02c6ac6\", element=\"ca697210-0f57-4dab-b050-90e405e72798\")>,\n",
       " <selenium.webdriver.remote.webelement.WebElement (session=\"8d266e5c60cfc01782bcf0d6c02c6ac6\", element=\"d2f52c88-9a16-441d-9397-2610bc84d1a4\")>,\n",
       " <selenium.webdriver.remote.webelement.WebElement (session=\"8d266e5c60cfc01782bcf0d6c02c6ac6\", element=\"b8517286-9de4-4e29-af27-e7a2ab0609e7\")>,\n",
       " <selenium.webdriver.remote.webelement.WebElement (session=\"8d266e5c60cfc01782bcf0d6c02c6ac6\", element=\"4fcde723-2853-4bfb-9241-123a75452254\")>,\n",
       " <selenium.webdriver.remote.webelement.WebElement (session=\"8d266e5c60cfc01782bcf0d6c02c6ac6\", element=\"95109fd2-e26a-4a3a-876d-7c365fa8fd64\")>,\n",
       " <selenium.webdriver.remote.webelement.WebElement (session=\"8d266e5c60cfc01782bcf0d6c02c6ac6\", element=\"79bcb587-3969-4239-9edb-dd342e10f799\")>,\n",
       " <selenium.webdriver.remote.webelement.WebElement (session=\"8d266e5c60cfc01782bcf0d6c02c6ac6\", element=\"4a27928a-f281-400a-9994-3725699dacdb\")>,\n",
       " <selenium.webdriver.remote.webelement.WebElement (session=\"8d266e5c60cfc01782bcf0d6c02c6ac6\", element=\"2327377b-1b89-4843-afd5-c79ef128bbfb\")>,\n",
       " <selenium.webdriver.remote.webelement.WebElement (session=\"8d266e5c60cfc01782bcf0d6c02c6ac6\", element=\"299dc73e-834a-4d43-9f87-7edc8a1a0886\")>,\n",
       " <selenium.webdriver.remote.webelement.WebElement (session=\"8d266e5c60cfc01782bcf0d6c02c6ac6\", element=\"bf39c91c-a1c0-44b0-93f0-581076d4a022\")>,\n",
       " <selenium.webdriver.remote.webelement.WebElement (session=\"8d266e5c60cfc01782bcf0d6c02c6ac6\", element=\"8e9ff9e5-5f00-4e0f-803a-111ad7828804\")>,\n",
       " <selenium.webdriver.remote.webelement.WebElement (session=\"8d266e5c60cfc01782bcf0d6c02c6ac6\", element=\"fa7dfcfe-c6a0-4dbc-8538-9231bba503b2\")>,\n",
       " <selenium.webdriver.remote.webelement.WebElement (session=\"8d266e5c60cfc01782bcf0d6c02c6ac6\", element=\"b0a8f997-e51a-44bd-a7f2-91848c869476\")>,\n",
       " <selenium.webdriver.remote.webelement.WebElement (session=\"8d266e5c60cfc01782bcf0d6c02c6ac6\", element=\"196f4a7e-2ee4-4e24-bc28-7a2571c90068\")>,\n",
       " <selenium.webdriver.remote.webelement.WebElement (session=\"8d266e5c60cfc01782bcf0d6c02c6ac6\", element=\"38e04b4f-dc8c-43f2-bb65-eb531c07dbcc\")>,\n",
       " <selenium.webdriver.remote.webelement.WebElement (session=\"8d266e5c60cfc01782bcf0d6c02c6ac6\", element=\"38cd12f9-097f-4807-9b9a-1f5e584e27ad\")>,\n",
       " <selenium.webdriver.remote.webelement.WebElement (session=\"8d266e5c60cfc01782bcf0d6c02c6ac6\", element=\"a9c60fe0-f4b5-4e1e-b00a-e7f818df94c2\")>,\n",
       " <selenium.webdriver.remote.webelement.WebElement (session=\"8d266e5c60cfc01782bcf0d6c02c6ac6\", element=\"c7d619ff-35f8-421b-bf37-00a41d896697\")>,\n",
       " <selenium.webdriver.remote.webelement.WebElement (session=\"8d266e5c60cfc01782bcf0d6c02c6ac6\", element=\"8e472566-1f64-45b2-83d9-59948df268b9\")>,\n",
       " <selenium.webdriver.remote.webelement.WebElement (session=\"8d266e5c60cfc01782bcf0d6c02c6ac6\", element=\"5ffde48b-460c-4843-810c-284969cae146\")>,\n",
       " <selenium.webdriver.remote.webelement.WebElement (session=\"8d266e5c60cfc01782bcf0d6c02c6ac6\", element=\"9b1093b3-ad9e-4bad-9432-911034463d07\")>,\n",
       " <selenium.webdriver.remote.webelement.WebElement (session=\"8d266e5c60cfc01782bcf0d6c02c6ac6\", element=\"87e9ef3b-701a-4bc2-9775-02bc9c9c2c7d\")>,\n",
       " <selenium.webdriver.remote.webelement.WebElement (session=\"8d266e5c60cfc01782bcf0d6c02c6ac6\", element=\"74d1aecc-55d2-48cf-89bd-75db1cc7bad0\")>,\n",
       " <selenium.webdriver.remote.webelement.WebElement (session=\"8d266e5c60cfc01782bcf0d6c02c6ac6\", element=\"1b574bcf-ce2d-4f84-b930-404d1e6346c1\")>,\n",
       " <selenium.webdriver.remote.webelement.WebElement (session=\"8d266e5c60cfc01782bcf0d6c02c6ac6\", element=\"c38c33ec-9503-46dd-af25-eafe0975b8f2\")>,\n",
       " <selenium.webdriver.remote.webelement.WebElement (session=\"8d266e5c60cfc01782bcf0d6c02c6ac6\", element=\"226fedf5-3925-4550-a34e-7f75c8f317d2\")>,\n",
       " <selenium.webdriver.remote.webelement.WebElement (session=\"8d266e5c60cfc01782bcf0d6c02c6ac6\", element=\"ae6820ef-45c8-4559-846d-9331447b3182\")>,\n",
       " <selenium.webdriver.remote.webelement.WebElement (session=\"8d266e5c60cfc01782bcf0d6c02c6ac6\", element=\"998a772a-c92a-441e-ae21-0ccb00b3affd\")>,\n",
       " <selenium.webdriver.remote.webelement.WebElement (session=\"8d266e5c60cfc01782bcf0d6c02c6ac6\", element=\"9e43f204-dc10-4736-9784-79f44b6fd058\")>,\n",
       " <selenium.webdriver.remote.webelement.WebElement (session=\"8d266e5c60cfc01782bcf0d6c02c6ac6\", element=\"946bc51e-052c-49ae-9d3e-f0877346aa83\")>,\n",
       " <selenium.webdriver.remote.webelement.WebElement (session=\"8d266e5c60cfc01782bcf0d6c02c6ac6\", element=\"6461175d-a7ec-4a97-95e8-5739c1caf206\")>,\n",
       " <selenium.webdriver.remote.webelement.WebElement (session=\"8d266e5c60cfc01782bcf0d6c02c6ac6\", element=\"da6fb502-bc34-4ed1-aed7-1bea4083ed0a\")>,\n",
       " <selenium.webdriver.remote.webelement.WebElement (session=\"8d266e5c60cfc01782bcf0d6c02c6ac6\", element=\"1c3afce9-8dd0-4501-8186-0f898a0eb11c\")>,\n",
       " <selenium.webdriver.remote.webelement.WebElement (session=\"8d266e5c60cfc01782bcf0d6c02c6ac6\", element=\"88becaa9-fb07-46e3-a9b3-52d5bde805ff\")>,\n",
       " <selenium.webdriver.remote.webelement.WebElement (session=\"8d266e5c60cfc01782bcf0d6c02c6ac6\", element=\"f77fc61e-d0fb-4eba-b34c-cf53c55efbd3\")>,\n",
       " <selenium.webdriver.remote.webelement.WebElement (session=\"8d266e5c60cfc01782bcf0d6c02c6ac6\", element=\"f78c3036-6260-4da5-924b-1715d8f55e57\")>,\n",
       " <selenium.webdriver.remote.webelement.WebElement (session=\"8d266e5c60cfc01782bcf0d6c02c6ac6\", element=\"f5aaaad2-dcd9-4fd6-8b89-6ee104869f82\")>,\n",
       " <selenium.webdriver.remote.webelement.WebElement (session=\"8d266e5c60cfc01782bcf0d6c02c6ac6\", element=\"15f5a8d7-d2d3-4f0e-ae5b-2483b001d98a\")>,\n",
       " <selenium.webdriver.remote.webelement.WebElement (session=\"8d266e5c60cfc01782bcf0d6c02c6ac6\", element=\"76b99f3e-f570-4e23-a94b-53d653795d98\")>,\n",
       " <selenium.webdriver.remote.webelement.WebElement (session=\"8d266e5c60cfc01782bcf0d6c02c6ac6\", element=\"55b915aa-5e10-4674-82fb-233aa8914a11\")>,\n",
       " <selenium.webdriver.remote.webelement.WebElement (session=\"8d266e5c60cfc01782bcf0d6c02c6ac6\", element=\"db8dbb9f-4398-4168-9dac-0a251db7d362\")>,\n",
       " <selenium.webdriver.remote.webelement.WebElement (session=\"8d266e5c60cfc01782bcf0d6c02c6ac6\", element=\"39c2930b-0f24-4f9c-8612-705545d897d7\")>,\n",
       " <selenium.webdriver.remote.webelement.WebElement (session=\"8d266e5c60cfc01782bcf0d6c02c6ac6\", element=\"6bbaa154-5c5b-4b9d-8582-77ed1d2a9919\")>,\n",
       " <selenium.webdriver.remote.webelement.WebElement (session=\"8d266e5c60cfc01782bcf0d6c02c6ac6\", element=\"24ee8d90-f45d-4419-b1f6-f7d467205ae9\")>,\n",
       " <selenium.webdriver.remote.webelement.WebElement (session=\"8d266e5c60cfc01782bcf0d6c02c6ac6\", element=\"55f521a0-8a2d-4a45-8dac-4e23e4876a8b\")>,\n",
       " <selenium.webdriver.remote.webelement.WebElement (session=\"8d266e5c60cfc01782bcf0d6c02c6ac6\", element=\"0193951b-aa66-4a19-9c61-4d00adaee0bc\")>,\n",
       " <selenium.webdriver.remote.webelement.WebElement (session=\"8d266e5c60cfc01782bcf0d6c02c6ac6\", element=\"515a7479-7c54-464d-8061-0aa29cebd51a\")>,\n",
       " <selenium.webdriver.remote.webelement.WebElement (session=\"8d266e5c60cfc01782bcf0d6c02c6ac6\", element=\"d0e4ef94-a2bf-4944-89a7-d2a95daf95cd\")>,\n",
       " <selenium.webdriver.remote.webelement.WebElement (session=\"8d266e5c60cfc01782bcf0d6c02c6ac6\", element=\"38f02ba7-aff1-453a-b59d-f568d67c9867\")>,\n",
       " <selenium.webdriver.remote.webelement.WebElement (session=\"8d266e5c60cfc01782bcf0d6c02c6ac6\", element=\"c8121cf2-9009-453d-aaa3-69100174333e\")>,\n",
       " <selenium.webdriver.remote.webelement.WebElement (session=\"8d266e5c60cfc01782bcf0d6c02c6ac6\", element=\"d74bd75d-b4c0-4f1a-887a-39c4c5bd3cd5\")>,\n",
       " <selenium.webdriver.remote.webelement.WebElement (session=\"8d266e5c60cfc01782bcf0d6c02c6ac6\", element=\"1f3e403e-97b0-47aa-9484-0b6135d5e3a7\")>,\n",
       " <selenium.webdriver.remote.webelement.WebElement (session=\"8d266e5c60cfc01782bcf0d6c02c6ac6\", element=\"21bcd358-0aeb-4c00-b5c8-0a3e3b6a8f87\")>,\n",
       " <selenium.webdriver.remote.webelement.WebElement (session=\"8d266e5c60cfc01782bcf0d6c02c6ac6\", element=\"ec6fc0bf-6475-4ea0-9f99-a05952ab25e6\")>,\n",
       " <selenium.webdriver.remote.webelement.WebElement (session=\"8d266e5c60cfc01782bcf0d6c02c6ac6\", element=\"7ade0a1c-a4c8-42b4-ab82-6cfb27441fdb\")>,\n",
       " <selenium.webdriver.remote.webelement.WebElement (session=\"8d266e5c60cfc01782bcf0d6c02c6ac6\", element=\"0486c0f8-8e69-4b8a-9d04-ed6a79c98105\")>,\n",
       " <selenium.webdriver.remote.webelement.WebElement (session=\"8d266e5c60cfc01782bcf0d6c02c6ac6\", element=\"19b0f2c7-916b-412c-adbe-96bfb935ea5d\")>,\n",
       " <selenium.webdriver.remote.webelement.WebElement (session=\"8d266e5c60cfc01782bcf0d6c02c6ac6\", element=\"963fcb58-1c66-456a-9d23-f169fadf419b\")>,\n",
       " <selenium.webdriver.remote.webelement.WebElement (session=\"8d266e5c60cfc01782bcf0d6c02c6ac6\", element=\"04648c29-095a-4074-8355-df111ad8b401\")>]"
      ]
     },
     "execution_count": 27,
     "metadata": {},
     "output_type": "execute_result"
    }
   ],
   "source": [
    "search_year=driver.find_elements_by_xpath(\"//span[@class='ellipsis fleft fs12 lh16']\")\n",
    "search_year"
   ]
  },
  {
   "cell_type": "code",
   "execution_count": 46,
   "metadata": {},
   "outputs": [
    {
     "data": {
      "text/plain": [
       "['0-3 Yrs',\n",
       " '3,50,000 - 4,50,000 PA.',\n",
       " 'Hyderabad/Secunderabad, Chennai, Bangalore/Bengaluru',\n",
       " '5-8 Yrs',\n",
       " 'Not disclosed',\n",
       " 'Bangalore/Bengaluru(Ulsoor)',\n",
       " '4-7 Yrs',\n",
       " 'Not disclosed',\n",
       " 'Bangalore/Bengaluru',\n",
       " '4-5 Yrs',\n",
       " 'Not disclosed',\n",
       " 'Bangalore/Bengaluru',\n",
       " '3-5 Yrs',\n",
       " 'Not disclosed',\n",
       " 'Bangalore/Bengaluru',\n",
       " '5-6 Yrs',\n",
       " 'Not disclosed',\n",
       " 'Bengaluru/Bangalore',\n",
       " '0-4 Yrs',\n",
       " 'Not disclosed',\n",
       " 'Bangalore/Bengaluru',\n",
       " '5-10 Yrs',\n",
       " 'Not disclosed',\n",
       " 'Bangalore/Bengaluru',\n",
       " '5-8 Yrs',\n",
       " '10,00,000 - 20,00,000 PA.',\n",
       " 'Bangalore/Bengaluru(2nd Phase JP Nagar)',\n",
       " '4-9 Yrs',\n",
       " 'Not disclosed',\n",
       " 'Bangalore/Bengaluru',\n",
       " '2-3 Yrs',\n",
       " 'Not disclosed',\n",
       " 'Bangalore/Bengaluru',\n",
       " '3-8 Yrs',\n",
       " '7,00,000 - 11,00,000 PA.',\n",
       " 'Bangalore/Bengaluru',\n",
       " '7-10 Yrs',\n",
       " 'Not disclosed',\n",
       " 'Bangalore/Bengaluru',\n",
       " '2-5 Yrs',\n",
       " 'Not disclosed',\n",
       " 'Bangalore/Bengaluru',\n",
       " '5-9 Yrs',\n",
       " 'Not disclosed',\n",
       " 'Bangalore/Bengaluru',\n",
       " '6-8 Yrs',\n",
       " 'Not disclosed',\n",
       " 'Bangalore/Bengaluru',\n",
       " '1-7 Yrs',\n",
       " 'Not disclosed',\n",
       " 'Bangalore/Bengaluru',\n",
       " '2-5 Yrs',\n",
       " 'Not disclosed',\n",
       " 'Bangalore/Bengaluru',\n",
       " '4-6 Yrs',\n",
       " 'Not disclosed',\n",
       " 'Bangalore/Bengaluru',\n",
       " '1-3 Yrs',\n",
       " 'Not disclosed',\n",
       " 'Bangalore/Bengaluru']"
      ]
     },
     "execution_count": 46,
     "metadata": {},
     "output_type": "execute_result"
    }
   ],
   "source": [
    "values=[]\n",
    "for i in search_year:\n",
    "    values.append(i.text)\n",
    "values\n",
    "    "
   ]
  },
  {
   "cell_type": "code",
   "execution_count": 76,
   "metadata": {},
   "outputs": [
    {
     "name": "stdout",
     "output_type": "stream",
     "text": [
      "     Year of exprerince --- \n",
      ",['0-3 Yrs', '5-8 Yrs', '4-7 Yrs', '4-5 Yrs', '3-5 Yrs', '5-6 Yrs', '0-4 Yrs', '5-10 Yrs', '5-8 Yrs', '4-9 Yrs', '2-3 Yrs', '3-8 Yrs', '7-10 Yrs', '2-5 Yrs', '5-9 Yrs', '6-8 Yrs', '1-7 Yrs', '2-5 Yrs', '4-6 Yrs', '1-3 Yrs', '0-3 Yrs', '5-8 Yrs', '4-7 Yrs', '4-5 Yrs', '3-5 Yrs', '5-6 Yrs', '0-4 Yrs', '5-10 Yrs', '5-8 Yrs', '4-9 Yrs', '2-3 Yrs', '3-8 Yrs', '7-10 Yrs', '2-5 Yrs', '5-9 Yrs', '6-8 Yrs', '1-7 Yrs', '2-5 Yrs', '4-6 Yrs', '1-3 Yrs', '0-3 Yrs', '5-8 Yrs', '4-7 Yrs', '4-5 Yrs', '3-5 Yrs', '5-6 Yrs', '0-4 Yrs', '5-10 Yrs', '5-8 Yrs', '4-9 Yrs', '2-3 Yrs', '3-8 Yrs', '7-10 Yrs', '2-5 Yrs', '5-9 Yrs', '6-8 Yrs', '1-7 Yrs', '2-5 Yrs', '4-6 Yrs', '1-3 Yrs']\n",
      "       salary ----\n",
      "['Hyderabad/Secunderabad, Chennai, Bangalore/Bengaluru', 'Bangalore/Bengaluru(Ulsoor)', 'Bangalore/Bengaluru', 'Bangalore/Bengaluru', 'Bangalore/Bengaluru', 'Bengaluru/Bangalore', 'Bangalore/Bengaluru', 'Bangalore/Bengaluru', 'Bangalore/Bengaluru(2nd Phase JP Nagar)', 'Bangalore/Bengaluru', 'Bangalore/Bengaluru', 'Bangalore/Bengaluru', 'Bangalore/Bengaluru', 'Bangalore/Bengaluru', 'Bangalore/Bengaluru', 'Bangalore/Bengaluru', 'Bangalore/Bengaluru', 'Bangalore/Bengaluru', 'Bangalore/Bengaluru', 'Bangalore/Bengaluru', 'Hyderabad/Secunderabad, Chennai, Bangalore/Bengaluru', 'Bangalore/Bengaluru(Ulsoor)', 'Bangalore/Bengaluru', 'Bangalore/Bengaluru', 'Bangalore/Bengaluru', 'Bengaluru/Bangalore', 'Bangalore/Bengaluru', 'Bangalore/Bengaluru', 'Bangalore/Bengaluru(2nd Phase JP Nagar)', 'Bangalore/Bengaluru', 'Bangalore/Bengaluru', 'Bangalore/Bengaluru', 'Bangalore/Bengaluru', 'Bangalore/Bengaluru', 'Bangalore/Bengaluru', 'Bangalore/Bengaluru', 'Bangalore/Bengaluru', 'Bangalore/Bengaluru', 'Bangalore/Bengaluru', 'Bangalore/Bengaluru', 'Hyderabad/Secunderabad, Chennai, Bangalore/Bengaluru', 'Bangalore/Bengaluru(Ulsoor)', 'Bangalore/Bengaluru', 'Bangalore/Bengaluru', 'Bangalore/Bengaluru', 'Bengaluru/Bangalore', 'Bangalore/Bengaluru', 'Bangalore/Bengaluru', 'Bangalore/Bengaluru(2nd Phase JP Nagar)', 'Bangalore/Bengaluru', 'Bangalore/Bengaluru', 'Bangalore/Bengaluru', 'Bangalore/Bengaluru', 'Bangalore/Bengaluru', 'Bangalore/Bengaluru', 'Bangalore/Bengaluru', 'Bangalore/Bengaluru', 'Bangalore/Bengaluru', 'Bangalore/Bengaluru', 'Bangalore/Bengaluru']\n",
      " ,      location----\n",
      "['3,50,000 - 4,50,000 PA.', 'Not disclosed', 'Not disclosed', 'Not disclosed', 'Not disclosed', 'Not disclosed', 'Not disclosed', 'Not disclosed', '10,00,000 - 20,00,000 PA.', 'Not disclosed', 'Not disclosed', '7,00,000 - 11,00,000 PA.', 'Not disclosed', 'Not disclosed', 'Not disclosed', 'Not disclosed', 'Not disclosed', 'Not disclosed', 'Not disclosed', 'Not disclosed', '3,50,000 - 4,50,000 PA.', 'Not disclosed', 'Not disclosed', 'Not disclosed', 'Not disclosed', 'Not disclosed', 'Not disclosed', 'Not disclosed', '10,00,000 - 20,00,000 PA.', 'Not disclosed', 'Not disclosed', '7,00,000 - 11,00,000 PA.', 'Not disclosed', 'Not disclosed', 'Not disclosed', 'Not disclosed', 'Not disclosed', 'Not disclosed', 'Not disclosed', 'Not disclosed', '3,50,000 - 4,50,000 PA.', 'Not disclosed', 'Not disclosed', 'Not disclosed', 'Not disclosed', 'Not disclosed', 'Not disclosed', 'Not disclosed', '10,00,000 - 20,00,000 PA.', 'Not disclosed', 'Not disclosed', '7,00,000 - 11,00,000 PA.', 'Not disclosed', 'Not disclosed', 'Not disclosed', 'Not disclosed', 'Not disclosed', 'Not disclosed', 'Not disclosed', 'Not disclosed']\n"
     ]
    }
   ],
   "source": [
    "for i in range(0,len(values),3):\n",
    "    job_exp.append(values[i])\n",
    "    job_salary.append(values[i+1])\n",
    "    job_location.append(values[i+2])\n",
    "print(f\"     Year of exprerince --- \\n,{job_exp}\\n       salary ----\\n{job_location}\\n ,      location----\\n{job_salary}\")"
   ]
  },
  {
   "cell_type": "code",
   "execution_count": 86,
   "metadata": {},
   "outputs": [
    {
     "data": {
      "text/html": [
       "<div>\n",
       "<style scoped>\n",
       "    .dataframe tbody tr th:only-of-type {\n",
       "        vertical-align: middle;\n",
       "    }\n",
       "\n",
       "    .dataframe tbody tr th {\n",
       "        vertical-align: top;\n",
       "    }\n",
       "\n",
       "    .dataframe thead th {\n",
       "        text-align: right;\n",
       "    }\n",
       "</style>\n",
       "<table border=\"1\" class=\"dataframe\">\n",
       "  <thead>\n",
       "    <tr style=\"text-align: right;\">\n",
       "      <th></th>\n",
       "      <th>title</th>\n",
       "      <th>Experience</th>\n",
       "      <th>Location</th>\n",
       "      <th>Salary</th>\n",
       "    </tr>\n",
       "  </thead>\n",
       "  <tbody>\n",
       "    <tr>\n",
       "      <td>0</td>\n",
       "      <td>Data Scientist / Data Analyst -Business Analyst</td>\n",
       "      <td>0-3 Yrs</td>\n",
       "      <td>Hyderabad/Secunderabad, Chennai, Bangalore/Ben...</td>\n",
       "      <td>3,50,000 - 4,50,000 PA.</td>\n",
       "    </tr>\n",
       "    <tr>\n",
       "      <td>1</td>\n",
       "      <td>Data Analyst</td>\n",
       "      <td>5-8 Yrs</td>\n",
       "      <td>Bangalore/Bengaluru(Ulsoor)</td>\n",
       "      <td>Not disclosed</td>\n",
       "    </tr>\n",
       "    <tr>\n",
       "      <td>2</td>\n",
       "      <td>Senior Security Specialist - CS Awareness &amp; Da...</td>\n",
       "      <td>4-7 Yrs</td>\n",
       "      <td>Bangalore/Bengaluru</td>\n",
       "      <td>Not disclosed</td>\n",
       "    </tr>\n",
       "    <tr>\n",
       "      <td>3</td>\n",
       "      <td>Senior Data Analyst</td>\n",
       "      <td>4-5 Yrs</td>\n",
       "      <td>Bangalore/Bengaluru</td>\n",
       "      <td>Not disclosed</td>\n",
       "    </tr>\n",
       "    <tr>\n",
       "      <td>4</td>\n",
       "      <td>Data analysts</td>\n",
       "      <td>3-5 Yrs</td>\n",
       "      <td>Bangalore/Bengaluru</td>\n",
       "      <td>Not disclosed</td>\n",
       "    </tr>\n",
       "    <tr>\n",
       "      <td>5</td>\n",
       "      <td>Data analysts</td>\n",
       "      <td>5-6 Yrs</td>\n",
       "      <td>Bengaluru/Bangalore</td>\n",
       "      <td>Not disclosed</td>\n",
       "    </tr>\n",
       "    <tr>\n",
       "      <td>6</td>\n",
       "      <td>Data Analyst</td>\n",
       "      <td>0-4 Yrs</td>\n",
       "      <td>Bangalore/Bengaluru</td>\n",
       "      <td>Not disclosed</td>\n",
       "    </tr>\n",
       "    <tr>\n",
       "      <td>7</td>\n",
       "      <td>Data Analyst (Data Stewards)//Immediate Joiner...</td>\n",
       "      <td>5-10 Yrs</td>\n",
       "      <td>Bangalore/Bengaluru</td>\n",
       "      <td>Not disclosed</td>\n",
       "    </tr>\n",
       "    <tr>\n",
       "      <td>8</td>\n",
       "      <td>Senior Data Analyst</td>\n",
       "      <td>5-8 Yrs</td>\n",
       "      <td>Bangalore/Bengaluru(2nd Phase JP Nagar)</td>\n",
       "      <td>10,00,000 - 20,00,000 PA.</td>\n",
       "    </tr>\n",
       "    <tr>\n",
       "      <td>9</td>\n",
       "      <td>Data Analyst</td>\n",
       "      <td>4-9 Yrs</td>\n",
       "      <td>Bangalore/Bengaluru</td>\n",
       "      <td>Not disclosed</td>\n",
       "    </tr>\n",
       "  </tbody>\n",
       "</table>\n",
       "</div>"
      ],
      "text/plain": [
       "                                               title Experience  \\\n",
       "0    Data Scientist / Data Analyst -Business Analyst    0-3 Yrs   \n",
       "1                                       Data Analyst    5-8 Yrs   \n",
       "2  Senior Security Specialist - CS Awareness & Da...    4-7 Yrs   \n",
       "3                                Senior Data Analyst    4-5 Yrs   \n",
       "4                                      Data analysts    3-5 Yrs   \n",
       "5                                      Data analysts    5-6 Yrs   \n",
       "6                                       Data Analyst    0-4 Yrs   \n",
       "7  Data Analyst (Data Stewards)//Immediate Joiner...   5-10 Yrs   \n",
       "8                                Senior Data Analyst    5-8 Yrs   \n",
       "9                                       Data Analyst    4-9 Yrs   \n",
       "\n",
       "                                            Location  \\\n",
       "0  Hyderabad/Secunderabad, Chennai, Bangalore/Ben...   \n",
       "1                        Bangalore/Bengaluru(Ulsoor)   \n",
       "2                                Bangalore/Bengaluru   \n",
       "3                                Bangalore/Bengaluru   \n",
       "4                                Bangalore/Bengaluru   \n",
       "5                                Bengaluru/Bangalore   \n",
       "6                                Bangalore/Bengaluru   \n",
       "7                                Bangalore/Bengaluru   \n",
       "8            Bangalore/Bengaluru(2nd Phase JP Nagar)   \n",
       "9                                Bangalore/Bengaluru   \n",
       "\n",
       "                      Salary  \n",
       "0    3,50,000 - 4,50,000 PA.  \n",
       "1              Not disclosed  \n",
       "2              Not disclosed  \n",
       "3              Not disclosed  \n",
       "4              Not disclosed  \n",
       "5              Not disclosed  \n",
       "6              Not disclosed  \n",
       "7              Not disclosed  \n",
       "8  10,00,000 - 20,00,000 PA.  \n",
       "9              Not disclosed  "
      ]
     },
     "execution_count": 86,
     "metadata": {},
     "output_type": "execute_result"
    }
   ],
   "source": [
    "# creating the dataFrame\n",
    "df=pd.DataFrame({\n",
    "    'title':  job_title,\n",
    "    'Experience': job_exp,\n",
    "    'Location': job_location,\n",
    "    'Salary': job_salary\n",
    "})\n",
    "df"
   ]
  },
  {
   "cell_type": "markdown",
   "metadata": {},
   "source": [
    "# Q2: Write a python program to scrape data for “Data Scientist” Job position in “Bangalore” location. You have to scrape the job-title, job-location, company_name, full job-description. You have to scrape first 10 jobs data."
   ]
  },
  {
   "cell_type": "code",
   "execution_count": 87,
   "metadata": {},
   "outputs": [],
   "source": [
    "import selenium\n",
    "import time\n",
    "from selenium import webdriver\n",
    "from selenium.common.exceptions import NoSuchElementException   # importing the exception"
   ]
  },
  {
   "cell_type": "code",
   "execution_count": 91,
   "metadata": {},
   "outputs": [],
   "source": [
    "driver=webdriver.Chrome(\"chromedriver.exe\")"
   ]
  },
  {
   "cell_type": "code",
   "execution_count": 92,
   "metadata": {},
   "outputs": [],
   "source": [
    "driver.get(\"https://www.naukri.com/\")"
   ]
  },
  {
   "cell_type": "code",
   "execution_count": 100,
   "metadata": {},
   "outputs": [],
   "source": [
    "enter_post=driver.find_element_by_id(\"qsb-keyword-sugg\")\n",
    "enter_location=driver.find_element_by_id(\"qsb-location-sugg\")"
   ]
  },
  {
   "cell_type": "code",
   "execution_count": 101,
   "metadata": {},
   "outputs": [],
   "source": [
    "enter_post.send_keys(\"Data Scientist\")\n",
    "enter_location.send_keys(\"Bangalore\")\n",
    "    "
   ]
  },
  {
   "cell_type": "code",
   "execution_count": 102,
   "metadata": {},
   "outputs": [],
   "source": [
    "button=driver.find_element_by_xpath(\"//button[@class='btn']\")\n",
    "button.click()"
   ]
  },
  {
   "cell_type": "code",
   "execution_count": 105,
   "metadata": {},
   "outputs": [
    {
     "data": {
      "text/plain": [
       "[<selenium.webdriver.remote.webelement.WebElement (session=\"ba3e55914a562f491ea8d457a9998793\", element=\"3526d03b-e033-4f4e-8de4-be4c9e1dec91\")>,\n",
       " <selenium.webdriver.remote.webelement.WebElement (session=\"ba3e55914a562f491ea8d457a9998793\", element=\"bab27d21-417b-4f0a-a5a5-d93e7cde13df\")>,\n",
       " <selenium.webdriver.remote.webelement.WebElement (session=\"ba3e55914a562f491ea8d457a9998793\", element=\"793369cc-595f-45dd-87be-50a595aa1c6b\")>,\n",
       " <selenium.webdriver.remote.webelement.WebElement (session=\"ba3e55914a562f491ea8d457a9998793\", element=\"47c59b8d-176c-484c-b1db-c2e90bf3b3ba\")>,\n",
       " <selenium.webdriver.remote.webelement.WebElement (session=\"ba3e55914a562f491ea8d457a9998793\", element=\"c5d1abd9-a51c-4f5d-8012-83356c94a995\")>,\n",
       " <selenium.webdriver.remote.webelement.WebElement (session=\"ba3e55914a562f491ea8d457a9998793\", element=\"23cffb14-7a99-4be6-a8f4-a9406a737668\")>,\n",
       " <selenium.webdriver.remote.webelement.WebElement (session=\"ba3e55914a562f491ea8d457a9998793\", element=\"3dd5311b-e811-4e78-a6b9-10e08c048606\")>,\n",
       " <selenium.webdriver.remote.webelement.WebElement (session=\"ba3e55914a562f491ea8d457a9998793\", element=\"c01ea8ad-f78e-459b-b9d0-2e410cf554a6\")>,\n",
       " <selenium.webdriver.remote.webelement.WebElement (session=\"ba3e55914a562f491ea8d457a9998793\", element=\"d5fa4ac6-509e-40bf-a5e2-c8e5bc78dc56\")>,\n",
       " <selenium.webdriver.remote.webelement.WebElement (session=\"ba3e55914a562f491ea8d457a9998793\", element=\"16cdcfc1-83d7-4886-9fd3-0bbf5d7687f4\")>,\n",
       " <selenium.webdriver.remote.webelement.WebElement (session=\"ba3e55914a562f491ea8d457a9998793\", element=\"a6d02de9-a38d-4379-9985-ed8d889dc642\")>,\n",
       " <selenium.webdriver.remote.webelement.WebElement (session=\"ba3e55914a562f491ea8d457a9998793\", element=\"8f8cdceb-e471-4634-ab0a-9d063292865d\")>,\n",
       " <selenium.webdriver.remote.webelement.WebElement (session=\"ba3e55914a562f491ea8d457a9998793\", element=\"f15bb8be-eab1-4c0b-80d9-0ee7bb0b202b\")>,\n",
       " <selenium.webdriver.remote.webelement.WebElement (session=\"ba3e55914a562f491ea8d457a9998793\", element=\"e80341ca-9dc4-4e04-a47c-8ed825ad1234\")>,\n",
       " <selenium.webdriver.remote.webelement.WebElement (session=\"ba3e55914a562f491ea8d457a9998793\", element=\"be6b9a76-b071-4562-98f0-297f18732e21\")>,\n",
       " <selenium.webdriver.remote.webelement.WebElement (session=\"ba3e55914a562f491ea8d457a9998793\", element=\"595b9e76-399d-419c-b1a5-7fda90632859\")>,\n",
       " <selenium.webdriver.remote.webelement.WebElement (session=\"ba3e55914a562f491ea8d457a9998793\", element=\"9c8e8318-0481-4ad3-a04a-308ad9145f9d\")>,\n",
       " <selenium.webdriver.remote.webelement.WebElement (session=\"ba3e55914a562f491ea8d457a9998793\", element=\"5d2fd10f-7847-4c0a-867d-a863f71c3161\")>,\n",
       " <selenium.webdriver.remote.webelement.WebElement (session=\"ba3e55914a562f491ea8d457a9998793\", element=\"2d4e08ce-2218-4225-a799-f03cc537c3f4\")>,\n",
       " <selenium.webdriver.remote.webelement.WebElement (session=\"ba3e55914a562f491ea8d457a9998793\", element=\"d9e1c7da-8ab5-4799-93c5-b2948745a78e\")>]"
      ]
     },
     "execution_count": 105,
     "metadata": {},
     "output_type": "execute_result"
    }
   ],
   "source": [
    "search_title=driver.find_elements_by_xpath(\"//a[@class='title fw500 ellipsis']\")\n",
    "search_title"
   ]
  },
  {
   "cell_type": "code",
   "execution_count": 108,
   "metadata": {},
   "outputs": [
    {
     "data": {
      "text/plain": [
       "20"
      ]
     },
     "execution_count": 108,
     "metadata": {},
     "output_type": "execute_result"
    }
   ],
   "source": [
    "#now scraping the web link\n",
    "url=[]\n",
    "for i in search_title:\n",
    "    url.append(i.get_attribute(\"href\"))\n",
    "len(url)\n"
   ]
  },
  {
   "cell_type": "code",
   "execution_count": 109,
   "metadata": {},
   "outputs": [
    {
     "data": {
      "text/plain": [
       "10"
      ]
     },
     "execution_count": 109,
     "metadata": {},
     "output_type": "execute_result"
    }
   ],
   "source": [
    "#indexing only 10 element \n",
    "url=url[:10]\n",
    "len(url)"
   ]
  },
  {
   "cell_type": "code",
   "execution_count": 129,
   "metadata": {},
   "outputs": [
    {
     "data": {
      "text/plain": [
       "['Data Scientist / Data Analyst -Business Analyst',\n",
       " 'Senior/Lead Data Scientist - Machine Learning/Deep Learning',\n",
       " 'Senior Data Scientist',\n",
       " 'Senior Data Scientist',\n",
       " 'Lead Data Scientist - Machine Learning/ Data Mining',\n",
       " 'Data Scientist',\n",
       " 'Data Scientist',\n",
       " 'Data Scientist',\n",
       " 'Data Scientist',\n",
       " 'Data Scientist - Consumer Analytics']"
      ]
     },
     "execution_count": 129,
     "metadata": {},
     "output_type": "execute_result"
    }
   ],
   "source": [
    "#Extracting the job title from the above URL\n",
    "''''job_title=[]\n",
    "for i in url:\n",
    "    driver.get(i)\n",
    "    try:\n",
    "        title=driver.find_element_by_xpath(\"//h1[@class='jd-header-title']\")\n",
    "        job_title.append(title.text)\n",
    "    except NoSuchElementException as e:\n",
    "        print(\"Exception raised\",e)\n",
    "job_title"
   ]
  },
  {
   "cell_type": "code",
   "execution_count": 139,
   "metadata": {},
   "outputs": [
    {
     "name": "stdout",
     "output_type": "stream",
     "text": [
      "length of job description- 10\n",
      "length of job Salary- 10\n",
      "length of job title- 10\n"
     ]
    }
   ],
   "source": [
    "#extracting the job description ,salary and job title in one code\n",
    "job_description=[]\n",
    "salary=[]\n",
    "job_title=[]\n",
    "for i in url:\n",
    "    driver.get(i)\n",
    "    try:\n",
    "        title=driver.find_element_by_xpath(\"//h1[@class='jd-header-title']\")\n",
    "        job_title.append(title.text)\n",
    "        jd=driver.find_element_by_xpath(\"//div[@class='dang-inner-html']\")\n",
    "        job_description.append(jd.text.replace('\\n','-->'))\n",
    "        sal=driver.find_element_by_xpath(\"//div[@class='salary']\")\n",
    "        salary.append(sal.text.replace('\\n',''))\n",
    "    except NoSuchElementException as e:\n",
    "        print(\"Exception raised\",e)\n",
    "        \n",
    "print(\"length of job description-\",len(job_description))\n",
    "print(\"length of job Salary-\",len(salary))\n",
    "print(\"length of job title-\",len(job_title))\n"
   ]
  },
  {
   "cell_type": "code",
   "execution_count": 130,
   "metadata": {},
   "outputs": [
    {
     "data": {
      "text/plain": [
       "['Data Scientist / Data Analyst -Business Analyst',\n",
       " 'Senior/Lead Data Scientist - Machine Learning/Deep Learning',\n",
       " 'Senior Data Scientist',\n",
       " 'Senior Data Scientist',\n",
       " 'Lead Data Scientist - Machine Learning/ Data Mining',\n",
       " 'Data Scientist',\n",
       " 'Data Scientist',\n",
       " 'Data Scientist',\n",
       " 'Data Scientist',\n",
       " 'Data Scientist - Consumer Analytics']"
      ]
     },
     "execution_count": 130,
     "metadata": {},
     "output_type": "execute_result"
    }
   ],
   "source": [
    "job_title"
   ]
  },
  {
   "cell_type": "code",
   "execution_count": 136,
   "metadata": {},
   "outputs": [
    {
     "data": {
      "text/plain": [
       "['₹ 3,50,000 - 4,50,000 P.A.',\n",
       " 'Not Disclosed',\n",
       " 'Not Disclosed',\n",
       " 'Not Disclosed',\n",
       " 'Not Disclosed',\n",
       " 'Not Disclosed',\n",
       " 'Not Disclosed',\n",
       " 'Not Disclosed',\n",
       " 'Not Disclosed',\n",
       " 'Not Disclosed']"
      ]
     },
     "execution_count": 136,
     "metadata": {},
     "output_type": "execute_result"
    }
   ],
   "source": [
    "''''salary=[]    ##Extracting the salary from the above URL\n",
    "for i in url:\n",
    "    driver.get(i)\n",
    "    try:\n",
    "        sal=driver.find_element_by_xpath(\"//div[@class='salary']\")\n",
    "        salary.append(sal.text.replace('\\n',''))\n",
    "    except NoSuchElementException as e:\n",
    "        print(\"Exception raised\",e)\n",
    "salary"
   ]
  },
  {
   "cell_type": "code",
   "execution_count": 137,
   "metadata": {},
   "outputs": [
    {
     "data": {
      "text/plain": [
       "[\"Job description-->-->Job Role: Data Scientist/Data Analyst /Business Analyst-->-->Location: Chennai/Bangalore/Hyderabad-->-->Greetings from CAIA - Center for Artificial Intelligence & Advanced Analytics-->43% of companies experienced a high deficit of skilled resources with Advanced Analytical skills and AI implementing capabilities in the year 2020. CAIA gives you a great opportunity to enter the world of future technologies and Innovations- Data Science, Analytics, AI, Data Visualization, and Cloud Computing.-->-->While 2020 was a year like no other, we are living in an interesting times where data is reshaping the world, and businesses are rapidly adopting technology to gain an edge over others. Hence, there's a substantial increase in demand for technology professionals who can implement systems in data science, machine learning, and AI in Tier 1 and Tier 2 organizations working closely with us.-->-->To help you build a sustainable career we would like you to utilize data, software and Analytical approaches in Data Science and AI to upskill and get recruited into an organization appreciating your skilling journey.-->Applications invited from all Freshers and experienced candidates (0-3 yrs) aspiring to make a career in Artificial Intelligence and Advanced Analytics and Data Science.-->If you wish to make a shift in your career or undergo a career transition, upskilling is essential since it allows you to learn more about the domain and acquire the required skills.-->-->Call to schedule interview Monday -Saturday from 10:00 am to 7 Pm-->-->Koodesh B- +91 73395 11107-->Manigandan B - +91 93444 57360-->-->Email :-->-->careerguidance.koodes@centerforaia.com-->manigandan@centerforaia.com-->-->What is needed from you?-->Freshers who wish to start their career in Analytics and AI and professionals who wish to-->upskill or change their domain to analytics and emerging technologies are free to apply.-->Educational background in any one of the following- BE/B.Tech, ME/M Tech, MSc, BSc/MSc Math's and Statistics, B Com, BCA, BSc CS, BSC IT, MSC IT, MCA-->Skills relating to Mathematics/Statistics.-->Natural passion towards numbers, business, coding, Analytics, and Artificial Intelligence, Machine Learning, visualization-->Good verbal and written communication skills-->Ability to understand domains in businesses across various sectors-->-->Selection procedure includes-->Aptitude Test & Communication Exam - Online / Offline-->SQL/Python test - Online / Offline-->Candidates who clear the above will have one-one discussions with our Career Guidance Manager for further evaluation and processing of your Resume.-->-->All the Shortlisted candidates will be eligible to continue the corporate training with CAIA-->What you can expect from us?-->-->You will get trained on the following modules for a period of 12-14 weeks:-->SQL & PLSQL-->Data Wrangling using Python-->Data Visualization Using Power-BI-->Statistics for Machine Learning-->Artificial Intelligence, Data Interpretation-->Supervised & Unsupervised Learning,-->NLP & Deep Learning-->Cloud Data Lake-->Business intelligence & Data Visualization-->Simulation Projects-->Expected Outcome?-->-->At the end of the Training you are expected to be well versed with the following:-->Analysis of large and complex data sets from multiple sources-->Development and evaluation of data analytics models, algorithms, and solutions-->Understanding/implementation of ML algorithms, performance tuning, and reporting-->Implementation of algorithms to mine targeted data and the ability to convert data into a business story-->Translation of business requirements into technical requirements; Data extraction, preparation, and transformation-->Identification, development, and implementation of statistical techniques and algorithms that address business challenges and adds value to the organization-->Requirement Analysis and communication of findings in the form of a meaningful story with the stakeholders-->Finding analytical solutions to abstract business issues.-->Apply objective analysis of facts before coming to a conclusion\",\n",
       " 'Roles and Responsibilities-->Hiring for US based Start-up AI Fintech which is building Digital Banking platform for North American region.-->-->Experience for the Role : Data Scientist (1+ Yrs) & Senior/ Lead Data Scientist (3+ Yrs)-->-->Location : Bangalore (HSR Layout)-->-->Looking expert machine learning and a statistical mastermind and who are keen to make a difference in a unique way.-->-->We expect a Data Scientist & ML Engineer to take the onus of creating and leveraging the state-of-the-art algorithms in machine learning, deep learning and AI which will impact billions of people.-->-->Main Responsibilities :-->-->As an ML Engineer / Data Scientist, you will work on cutting edge problems in Natural Language Processing using Deep Learning.-->-->- Perform exploratory data analysis to understand the problem-->-->- Implement and experiment with different features and architectures for Deep-Learning models for NLP-->-->- Do literature review and come up with possible solutions-->-->- Do visualisation for understanding the problem and showcasing models-->-->- Make the model faster for real-time predictions-->-->- Build tools to help the team build models and deploy them-->-->What We are looking:-->-->- B.Tech, M.Tech or Ph.D in Computer Science or equivalent work experience-->-->- Knowledgeable on common data structures and algorithms-->-->- Knowledgeable in one or more of the following : Machine Learning / Information Retrieval / Deep Learning / NLP-->-->- 1 to 5 year experience working with real world datasets-->-->- Strong interest in solving real world problems in Machine Learning-->-->- Programming experience (in any programming language) is a must-->-->- Good familiarity with Python and its scientific computing / ML ecosystem is preferable.',\n",
       " 'The Artificial Intelligence and Machine Learning (AIML) group at Fractal Analytics is actively involved in helping Fortune 500 companies by enabling them to discover how they can leverage their data using advanced and sophisticated AI/ML algorithms for which we are looking for Data Scientists with the capability to work on independent statistical and machine learning research/ projects. If you are a problem solver with a curiosity for exploring new techniques and technologies in AIML space, then we would like to talk with you.-->Job Responsibilities-->Ability to understand a problem statement and implement analytical solutions techniques independently with independently / proactively / thought-leadership.-->Work with stakeholders throughout the organization to identify opportunities for leveraging company/client data to drive business solutions.-->Fast learner: ability to learn and pick up a new language/tool/ platform quickly.-->Conceptualize, design, and deliver high-quality solutions and insightful analysis.-->Conduct research and prototyping innovations; data and requirements gathering; solution scoping and architecture; consulting clients and client facing teams on advanced statistical and machine learning problems.-->Collaborate and Coordinate with different functional teams(engineering and product development) to implement models and monitor outcomes.-->Ability to deliver AIML based solutions around a host of domains and problems, with some of them being: Customer Segmentation Targeting, Propensity Modeling, Churn Modeling, Lifetime Value Estimation, Forecasting, Recommender Systems, Modeling Response to Incentives, Marketing Mix Optimization, Price Optimization-->Experience Required:-->Expert level proficiency in at least one of R and Python.-->Ability to create efficient solutions to complex problems. Strong skills in data-structures and ML algorithms.-->Experience of working on end-to-end data science pipeline: problem scoping, data gathering, EDA, modelling, insights, visualizations, monitoring and maintenance.-->Problem-solving: Ability to break the problem into small parts and applying relevant techniques to drive required outcomes.-->Intermediate to advanced knowledge of machine learning, probability theory, statistics, and algorithms. You will be required to discuss and use various algorithms and approaches on a daily basis.-->We use regression, Bayesian methods, tree-based learners, SVM, RF, XGBOOST, time series modeling, dimensionality reduction, SEM, GLM, GLMM, clustering, Deep learning etc. on a regular basis. If you know few of them you are good to go.-->Good to Have:-->Experience in one of the upcoming technologies like deep learning, NLP, image processing, recommender systems-->Experience of working in on one or more domains:-->CPG: pricing and promotion analytics, marketing analytics, trade promotions, supply chain management-->BFSI: cross-sell, up-sell, campaign analytics, treasury analytics, fraud detection-->Healthcare: medical adherence, medical risk profiling, EHR data, fraud-waste-abuse-->Experience in working with Linux computing environment and use of command line tools like sed/awk-->Good grasp on databases including RDBMS, NoSQL, MongoDB etc.-->Education Qualification-->B.Tech / M.Tech in Computer Science / Mathematics / Signal Processing or related fields.',\n",
       " 'ABOUT THIS JOB-->NielsenIQ Advanced Analytics team develops and promotes a portfolio of global products. Leveraging NielsenIQs unparalleled data and global platforms, the Advanced Analytics team creates solutions to enable our clients to make better business decisions every day.  We partner with Product Owners and Core Technology Teams to build scalable, always on,  analytic products using relevant modeling/ML techniques.-->We’re looking for a passionate and talented Senior Data Scientist to join our growing team. In this role, you’ll have the chance to roll up your sleeves and apply data science methods and analytics to sustain NielsenIQ Analytics growth. Successful candidates are intellectually curious builders and active learners who are biased toward action, new problem solving.-->Roles & Responsibilities :-->Understand business issues, stakeholder requirement and expectations-->Perform relevant modeling analysis and POC exploring multiple techniques-->Ensure Analytics model quality-->Document and present findings and recommendations on methodology in a structured way to various stakeholder or partnering teams (Engineering, Tech, Product leader).-->Work closely with the Engineering and Tech team to convert those POC into fully scalable products.-->Active and effective collaboration with other project team members (other Data Scientist, Data Steward, Technology Engineer)-->Collaboratively manage projects from timeline creation to project completion, managing expectations with leaders and colleagues-->Encourage team building, best practices sharing especially with more junior team members.-->Stay abreast of developments in the area to ensure bringing the most appropriate solutions to our business-->About You-->You’ve built a decent track record in research and data analytics. And you have the communication chops to translate it all into conversations. While you’ve worked with global cross-functional teams, you can also put your head down and focus on independent projects. Seeing the big picture takes attention to detail. Keeping up with the fast-changing world of technology takes someone who recognizes that. You know what’s happening in big data and you’re ready to influence what’s next.-->Qualifications-->Masters degree in Data Sciences, mathematics or a closely related field-->3 to 5 years of experience as a Data Scientist in the business-->Strong knowledge of statistical modelling, machine learning.-->Experience in machine learning, supervised and unsupervised: Forecasting, Classification, Data/Text Mining, NLP, Decision Trees, Adaptive Decision Algorithms, Random Forest, Search Algorithms, Neural Networks, Deep Learning Algorithms-->Experience with Optimisation techniques: linear programming, integer programming, genetic algorithm, constrained optimisation-->Experience in working on distributed or cloud computing platforms such as Google Cloud or Microsoft Azure-->Proficiency in Data Science coding languages like Python, PySpark, SQL, R in a cloud environment like DataBricks-->Experience using collaborative development tools (git).-->Experience working with Agile methodologies (SCRUM)-->Strong problem solving and excellent communication skills, independent working style-->Experience in an FMCG company is a strong plus',\n",
       " 'Roles and Responsibilities-->Requirements :-->-->- 6-9 years of strong experience in data mining, machine learning and statistical analysis.-->-->- BS/ MS/ PhD in Computer Science, Statistics, Applied Math, or related areas from Premier institutes ( only IITs / IISc / BITS / Top NITs or top US university should apply)-->-->- Ability to lead and deliver in a fast-paced start-up environment.-->-->- Fluency in tools such as Python/ R/ Matlab etc.-->-->- Strong intuition for data and Keen aptitude on large scale data analysis-->-->- Excellent written and verbal communication skills.-->-->- Ability to collaborate across teams and strong interpersonal skills.',\n",
       " '  Contributing in development and deployment of applied, predictive and prescriptive analytics. Develop self-learning systems that can predict failures and autocorrect based on data-->Gathering analysing data, devising data science solutions for high-performance models in scalable code. Propose innovative algorithms and pursue patents where appropriate.-->Working with engineering teams to incorporate solutions and create intuitive UX stories. Partner with data engineers on data quality assessment, cleansing and analytics.-->Researching and evaluating emerging technology and market trends to assist in project development and operational support for multiple teams or complex scenarios.-->Contributing to the development of software and data delivery platforms that are service-oriented with reusable components across multiple teams.-->Creating reports and other artifacts to document your work and outcomes. Communicating methods, findings, and hypotheses with stakeholders.-->Fuel your passion-->To be successful in this role you will:-->Have a Bachelor s Degree in Computer Science or in STEM, Majors. 3+ years as data scientist and technical hands-on coding experience.-->Have experience in Machine Learning/AI techniques including Deep learning (RNN, CNN, GAN, etc), Support Vector Machines; Regularization Techniques; Boosting, Random Forests, Ensemble Methods, image/video/audio processing, Bayesian and time series modelling.-->Have experience in Parallel programming frameworks for GPUs, TPUs and developed containerized solutions (Docker/Mesos etc).-->Have good implementation experience with R, Python, Perl, Ruby, Scala, Apache Spark, Storm, SAS and ability to work with a variety of Deep learning frameworks including TensorFlow, Keras, Caffe, CNTK, etc-->Have hands-on skills in sourcing, manipulating and analysing large volumes of data including SQL and NoSQL databases-->Have proven experience in using well-established supervised and unsupervised machine learning methods for large industry-strength data analysis problems.-->Reviews, analyses and develops architectural requirements at domain level, aligning architectural requirements with software development strategy. Leads and facilitates the domains architecture governance process based on EAs governance structure.',\n",
       " 'As a Data Scientist, you would be working with subject matter experts in energy production. You will help in building models on reliability, predictive analysis, production optimizations and other interesting industry problems.-->As a Data Scientist, you will be responsible for:-->Contributing in development and deployment of applied, predictive and prescriptive analytics. Develop self-learning systems that can predict failures and autocorrect based on data-->Gathering analysing data, devising data science solutions for high-performance models in scalable code. Propose innovative algorithms and pursue patents where appropriate.-->Working with engineering teams to incorporate solutions and create intuitive UX stories. Partner with data engineers on data quality assessment, cleansing and analytics.-->Researching and evaluating emerging technology and market trends to assist in project development and operational support for multiple teams or complex scenarios.-->Contributing to the development of software and data delivery platforms that are service-oriented with reusable components across multiple teams.-->Creating reports and other artifacts to document your work and outcomes. Communicating methods, findings, and hypotheses with stakeholders.-->Fuel your passion-->To be successful in this role you will:-->Have a Bachelor s Degree in Computer Science or in STEM, Majors. 3+ years as data scientist and technical hands-on coding experience.-->Have experience in Machine Learning/AI techniques including Deep learning (RNN, CNN, GAN, etc), Support Vector Machines; Regularization Techniques; Boosting, Random Forests, Ensemble Methods, image/video/audio processing, Bayesian and time series modelling.-->Have experience in Parallel programming frameworks for GPUs, TPUs and developed containerized solutions (Docker/Mesos etc).-->Have good implementation experience with R, Python, Perl, Ruby, Scala, Apache Spark, Storm, SAS and ability to work with a variety of Deep learning frameworks including TensorFlow, Keras, Caffe, CNTK, etc-->Have hands-on skills in sourcing, manipulating and analysing large volumes of data including SQL and NoSQL databases-->Have proven experience in using well-established supervised and unsupervised machine learning methods for large industry-strength data analysis problems.-->Reviews, analyses and develops architectural requirements at domain level, aligning architectural requirements with software development strategy. Leads and facilitates the domains architecture governance process based on EAs governance structure.',\n",
       " 'You are a passionate Data Scientist who wants to drive business results with your data-based insights. You have a strong data science background and understands the use of a variety of data mining and data analysis methods to build and implement models, algorithms, and simulations. From day one, you must be able to hit the ground running and bring all your experience to the team to ensure our business stays ahead of the industry.-->You have the ability to take a software project from conception to production delivery by being involved yourself in different phases- the design, documentation, programming, testing and ongoing maintenance of a software deliverable.-->-->Most importantly, you have a positive can do attitude and a passion for delivering technical solutions in a fast-paced start-up environment.-->-->Your Impact:-->Key Responsibilities:-->Use analytical rigor and statistical methods, programming, data modelling,-->simulation, and advanced mathematics to analyze large amounts of data,-->recognizing patterns, identifying opportunities, posing business questions, and-->making valuable discoveries.-->Identify/develop appropriate machine learning/data mining/text mining techniques to enable better business outcomes.-->Understand and analyze data sources including sampling biases, accuracy, and coverage.-->Break apart problems scientifically, providing insight into your recommendations and findings to both technical and non-technical partners.-->Research new ways for modeling and predictive behavior for large scale projects.-->Generate and test hypotheses, designing experiments to answer targeted questions of advanced complexity.-->Document projects including business objective, data gathering and processes, leading approaches, final algorithm, and detailed set of results and analytical metrics.-->Validate score performance.-->Build AI/ML models largely based on Python tech stacks on domains like CV, NLP etc.-->Use cases Image processing, Text processing, Classification, Prediction Analysis,Automation tools etc.-->-->What will you need?-->Required Skills:-->Advanced degree in Machine Learning, Computer Science, Electrical Engineering, Physics, Statistics, Applied Math, or other quantitative fields.-->3+ years of working experience in analytics, data mining, and/or predictive modeling, and data interpretation.-->Working knowledge of any major deep learning framework (Tensorflow/Pytorch etc.)-->Proven track record in modifying and applying advanced algorithms to address practical problems.-->Experience working with Azure ML and AWS services would be a bonus.-->Deep understanding of algorithms, machine learning and data science.-->Experience in working deep learning frameworks and model deployment on cloud would be preferred.-->Confident interacting with business peers to understand and identify use cases, with a strong ability to articulate solutions and present them to business partners.-->Strong coding skills in one of the following: Python, R, or PySpark.-->Experience with Hadoop and NoSQL or related technologies.-->Knowledge of NLP/Text mining techniques and related open source tools such as SpaCy (optional)-->Outstanding collaboration and communication skills. Ability to effectively collaborate with distributed team.-->Understand and practice agile development methodology.-->Nice to Have:-->Understanding of DevOps, micro-services architecture and container/Docker technologies.-->Prior experience working in a fintech based product company.',\n",
       " 'Role, Responsibilities-->Skills Required-->The data scientist is a new key player in organizations a new breed of analytical data experts.-->They are part mathematicians, part computer scientists, ruling the world of big data. Businesses are now wrestling with volumes of unstructured information that s a virtual gold mine, which can help boost revenue when unearthed.-->They really need professionals who can dig in and find valuable business insights.-->That is what the data scientist does; that is why they are highly sought after and well paid. Whether it s the thrill of problem-solving or the hefty paychecks, the perks of being a data scientist are luring many IT professionals to take this career path.-->If you re one of them, this article has everything you need to know about how to be a data scientist.-->Here, we ll cover the data Scientist job description what is a data scientist, what does a data scientist do, data scientist roles and responsibilities, data scientist skills, how to be a data scientist, and data scientist career path. Data Scientist Job Description Organizations are increasingly using more and more data in their everyday operations.-->A data scientist interprets the raw data and extracts valuable meaning out of it.-->They then use this information to find patterns and develop solutions that an organization needs to grow and compete. If we have to define a data scientist, it would be someone who makes value out of data.-->Wondering what exactly is the job of a data scientistWell, no points for guessing, a day of a data scientist revolves around - as the job title suggests - data and data everywhere. Post Graduate Program In Data Science-->The Ultimate Ticket To Top Data Science-->Job Roles-->EXPLORE COURSE-->Post Graduate Program In Data Science The data scientist job description involves fetching information from various sources and analyzing it to get a clear understanding of how an organization performs.-->The scientist uses statistical and analytical methods plus AI tools to automate specific processes within the organization and develop smart solutions to business challenges. After interpreting the data, they present the results in a clear and interesting way. The objective is to help the organization analyze trends to make better decisions.-->Thus, a good data scientist needs to have the right combination of technical, analytical, and communication skills. In order to understand the data scientist role, let s first understand that the data scientist position has evolved and expanded from the data analyst job position. Both the data analyst and data scientist organize and analyze big data within an organization. But the data scientist has the additional role of using business sense and communication skills to influence how the organization tackles business challenges.-->Data scientists combine practical skills like coding and math with the ability for statistical analysis to achieve results. For instance, a data scientist working for a social networking site might analyze the types of pages users Like and, based on that, decide what kind of advertisements users will see upon logging into their account.-->Roles and Responsibilities-->Data scientist roles and responsibilities include-->Data mining or extracting usable data from valuable data sources Using machine learning tools to select features, create and optimize classifiers Carrying out preprocessing of structured and unstructured data-->Enhancing data collection procedures to include all relevant information for developing analytic systems Processing, cleansing, and validating the integrity of data to be used for analysis-->Analyzing large amounts of information to find patterns and solutions Developing prediction systems and machine learning algorithms Presenting results in a clear manner-->Propose solutions and strategies to tackle business challenges Collaborate with Business and IT teams.',\n",
       " 'Core Responsibilities-->Model data to help create reporting infrastructure/dashboards for descriptive, predictive and forecasting analyses which drive key business decisions for the Consumer marketing teams of Eli Lilly brands in the US-->Use advanced analytical and statistical techniques to build models to help marketing teams make more informed decisions-->Writing and tuning complex SQL queries in a highly dynamic environment to map different Consumer Marketing data sources like Google Ad Server, DCM, Double Click, Google Search/Ads-->Understanding tagging parameters and connect de-identified datasets over multiple sources. Marketing metadata, Consumer data and taxonomy governance. Automating data governance-->Maintain stable and scalable solutions to extract data from diverse systems, cleanse and transform extremely large data sets into actionable business information-->Highly analytical and dive deep into data to find patterns, root cause analysis, aggregate, measurement using advanced SQL/ Python/ Spark-->Perform detailed analysis of source systems and source system data and test model to meet quality required for automated statistical models and analytics-->Continuous learning and experimenting new possibilities for Consumer Marketing Analytics and Analysis-->Work with cross functional teams and external consultants to help review their work and translate this work to data analysts and visualization experts-->Required-->4-6 years of in-depth hands-on experience in data warehousing Redshift or any OLAP to support business/data analytics, business intelligence (BI)-->Exploring large, complex data sets on cloud systems like AWS S3 and Redshift. Previous experience required in OLTP and OLAP databases like SQL Server/ Oracle-->Proficiency in Joins, aggregations, measurement, create views and stored procedures-->Advanced proficiency in SQL, Glue, Spark, Sage Maker (and other technologies for AWS), test and enhance code fine tuning for processing spee-->Expert level data analysis, data preparation to inform predictive, forecasting and time series models through Advanced SQL and connect to Power BI using combination of SQL, R or spark-->Experience in gathering business requirements, using industry standard business intelligence tool(s) to extract data, formulate metrics and build reports-->Proficient in SQL and R or Python-->Strong prior experience with attribution modelling-->Creative problem solving, organization, attention to detail, flexibility and adaptability-->Comfort with ambiguity and a willingness to work with a high degree of autonomy-->Demonstrated ability to meet deadlines while managing multiple large-scale projects in a fast-paced and rapidly changing environment-->Good communication skills (written and verbal) English-->Should be adaptable and open to picking up new technical skills and data processes-->Preferred Qualifications-->Experience in Data Engineering for Healthcare/Retail/BFSI/Digital native companies-->Familiarity with cloud technology such as AWS and knowledge of AWS Sagemaker, Redshift and Rekognition preferred-->Website pixel tagging, basic HTML-->R Development, API and OOPS preferred-->Education-->Bachelor s degree or master s degree in technology, Statistics or Computer Science']"
      ]
     },
     "execution_count": 137,
     "metadata": {},
     "output_type": "execute_result"
    }
   ],
   "source": [
    "''''job_description=[]   ##Extracting the job_description from the above URL\n",
    "for i in url:\n",
    "    driver.get(i)\n",
    "    try:\n",
    "        jd=driver.find_element_by_xpath(\"//div[@class='dang-inner-html']\")\n",
    "        job_description.append(jd.text.replace('\\n','-->'))\n",
    "    except NoSuchElementException as e:\n",
    "        print(\"Exception raised\",e)\n",
    "job_description"
   ]
  },
  {
   "cell_type": "code",
   "execution_count": 140,
   "metadata": {},
   "outputs": [
    {
     "data": {
      "text/html": [
       "<div>\n",
       "<style scoped>\n",
       "    .dataframe tbody tr th:only-of-type {\n",
       "        vertical-align: middle;\n",
       "    }\n",
       "\n",
       "    .dataframe tbody tr th {\n",
       "        vertical-align: top;\n",
       "    }\n",
       "\n",
       "    .dataframe thead th {\n",
       "        text-align: right;\n",
       "    }\n",
       "</style>\n",
       "<table border=\"1\" class=\"dataframe\">\n",
       "  <thead>\n",
       "    <tr style=\"text-align: right;\">\n",
       "      <th></th>\n",
       "      <th>job_title</th>\n",
       "      <th>salary</th>\n",
       "      <th>Job_description</th>\n",
       "    </tr>\n",
       "  </thead>\n",
       "  <tbody>\n",
       "    <tr>\n",
       "      <td>0</td>\n",
       "      <td>Data Scientist / Data Analyst -Business Analyst</td>\n",
       "      <td>₹ 3,50,000 - 4,50,000 P.A.</td>\n",
       "      <td>Job description--&gt;--&gt;Job Role: Data Scientist/...</td>\n",
       "    </tr>\n",
       "    <tr>\n",
       "      <td>1</td>\n",
       "      <td>Senior/Lead Data Scientist - Machine Learning/...</td>\n",
       "      <td>Not Disclosed</td>\n",
       "      <td>Roles and Responsibilities--&gt;Hiring for US bas...</td>\n",
       "    </tr>\n",
       "    <tr>\n",
       "      <td>2</td>\n",
       "      <td>Senior Data Scientist</td>\n",
       "      <td>Not Disclosed</td>\n",
       "      <td>The Artificial Intelligence and Machine Learni...</td>\n",
       "    </tr>\n",
       "    <tr>\n",
       "      <td>3</td>\n",
       "      <td>Senior Data Scientist</td>\n",
       "      <td>Not Disclosed</td>\n",
       "      <td>ABOUT THIS JOB--&gt;NielsenIQ Advanced Analytics ...</td>\n",
       "    </tr>\n",
       "    <tr>\n",
       "      <td>4</td>\n",
       "      <td>Lead Data Scientist - Machine Learning/ Data M...</td>\n",
       "      <td>Not Disclosed</td>\n",
       "      <td>Roles and Responsibilities--&gt;Requirements :--&gt;...</td>\n",
       "    </tr>\n",
       "    <tr>\n",
       "      <td>5</td>\n",
       "      <td>Data Scientist</td>\n",
       "      <td>Not Disclosed</td>\n",
       "      <td>Contributing in development and deployment o...</td>\n",
       "    </tr>\n",
       "    <tr>\n",
       "      <td>6</td>\n",
       "      <td>Data Scientist</td>\n",
       "      <td>Not Disclosed</td>\n",
       "      <td>As a Data Scientist, you would be working with...</td>\n",
       "    </tr>\n",
       "    <tr>\n",
       "      <td>7</td>\n",
       "      <td>Data Scientist</td>\n",
       "      <td>Not Disclosed</td>\n",
       "      <td>You are a passionate Data Scientist who wants ...</td>\n",
       "    </tr>\n",
       "    <tr>\n",
       "      <td>8</td>\n",
       "      <td>Data Scientist</td>\n",
       "      <td>Not Disclosed</td>\n",
       "      <td>Role, Responsibilities--&gt;Skills Required--&gt;The...</td>\n",
       "    </tr>\n",
       "    <tr>\n",
       "      <td>9</td>\n",
       "      <td>Data Scientist - Consumer Analytics</td>\n",
       "      <td>Not Disclosed</td>\n",
       "      <td>Core Responsibilities--&gt;Model data to help cre...</td>\n",
       "    </tr>\n",
       "  </tbody>\n",
       "</table>\n",
       "</div>"
      ],
      "text/plain": [
       "                                           job_title  \\\n",
       "0    Data Scientist / Data Analyst -Business Analyst   \n",
       "1  Senior/Lead Data Scientist - Machine Learning/...   \n",
       "2                              Senior Data Scientist   \n",
       "3                              Senior Data Scientist   \n",
       "4  Lead Data Scientist - Machine Learning/ Data M...   \n",
       "5                                     Data Scientist   \n",
       "6                                     Data Scientist   \n",
       "7                                     Data Scientist   \n",
       "8                                     Data Scientist   \n",
       "9                Data Scientist - Consumer Analytics   \n",
       "\n",
       "                       salary  \\\n",
       "0  ₹ 3,50,000 - 4,50,000 P.A.   \n",
       "1               Not Disclosed   \n",
       "2               Not Disclosed   \n",
       "3               Not Disclosed   \n",
       "4               Not Disclosed   \n",
       "5               Not Disclosed   \n",
       "6               Not Disclosed   \n",
       "7               Not Disclosed   \n",
       "8               Not Disclosed   \n",
       "9               Not Disclosed   \n",
       "\n",
       "                                     Job_description  \n",
       "0  Job description-->-->Job Role: Data Scientist/...  \n",
       "1  Roles and Responsibilities-->Hiring for US bas...  \n",
       "2  The Artificial Intelligence and Machine Learni...  \n",
       "3  ABOUT THIS JOB-->NielsenIQ Advanced Analytics ...  \n",
       "4  Roles and Responsibilities-->Requirements :-->...  \n",
       "5    Contributing in development and deployment o...  \n",
       "6  As a Data Scientist, you would be working with...  \n",
       "7  You are a passionate Data Scientist who wants ...  \n",
       "8  Role, Responsibilities-->Skills Required-->The...  \n",
       "9  Core Responsibilities-->Model data to help cre...  "
      ]
     },
     "execution_count": 140,
     "metadata": {},
     "output_type": "execute_result"
    }
   ],
   "source": [
    "#making the dataFrame\n",
    "df=pd.DataFrame({\n",
    "    \"job_title\": job_title,\n",
    "    \"salary\" :salary,\n",
    "    \"Job_description\": job_description\n",
    "    \n",
    "})\n",
    "df"
   ]
  },
  {
   "cell_type": "markdown",
   "metadata": {},
   "source": [
    "# Q3: In this question you have to scrape data using the filters available on the webpage as shown below:\n",
    " You have to use the location and salary filter.\n",
    " You have to scrape data for “Data Scientist” designation for first 10 job results.\n",
    " You have to scrape the job-title, job-location, company_name, experience_required."
   ]
  },
  {
   "cell_type": "code",
   "execution_count": 32,
   "metadata": {},
   "outputs": [],
   "source": [
    "import selenium\n",
    "from selenium import webdriver\n",
    "import time\n",
    "from selenium.common.exceptions import NoSuchElementException"
   ]
  },
  {
   "cell_type": "code",
   "execution_count": 33,
   "metadata": {},
   "outputs": [],
   "source": [
    "driver=webdriver.Chrome(\"chromedriver.exe\")"
   ]
  },
  {
   "cell_type": "code",
   "execution_count": 34,
   "metadata": {},
   "outputs": [],
   "source": [
    "search_site=driver.get(\"https://www.naukri.com/\")"
   ]
  },
  {
   "cell_type": "code",
   "execution_count": 35,
   "metadata": {},
   "outputs": [],
   "source": [
    "#searching the web elementfor searching job role and location\n",
    "search_job=driver.find_element_by_xpath(\"//input[@class='sugInp']\")\n",
    "search_button=driver.find_element_by_xpath(\"//button[@class='btn']\")\n",
    "search_job.send_keys(\"Data Scientist\")\n",
    "search_button.click()"
   ]
  },
  {
   "cell_type": "code",
   "execution_count": 174,
   "metadata": {},
   "outputs": [
    {
     "ename": "SyntaxError",
     "evalue": "EOL while scanning string literal (<ipython-input-174-a8565461afba>, line 7)",
     "output_type": "error",
     "traceback": [
      "\u001b[1;36m  File \u001b[1;32m\"<ipython-input-174-a8565461afba>\"\u001b[1;36m, line \u001b[1;32m7\u001b[0m\n\u001b[1;33m    break  ''''\u001b[0m\n\u001b[1;37m               \n^\u001b[0m\n\u001b[1;31mSyntaxError\u001b[0m\u001b[1;31m:\u001b[0m EOL while scanning string literal\n"
     ]
    }
   ],
   "source": [
    "#using  the location and salary filter to extract the data \n",
    "search_location=driver.find_elements_by_xpath(\"i[@class='mt-8 chckBoxCont']\")\n",
    "# extracting the web \n",
    "''''for i in search_location:\n",
    "    if i.text== \"Delhi/ NCR\":\n",
    "        i.click()\n",
    "        break  ''''"
   ]
  },
  {
   "cell_type": "code",
   "execution_count": 171,
   "metadata": {},
   "outputs": [
    {
     "data": {
      "text/plain": [
       "()"
      ]
     },
     "execution_count": 171,
     "metadata": {},
     "output_type": "execute_result"
    }
   ],
   "source": [
    "job=()\n",
    "for i in search_location:\n",
    "    job.append(i.text)\n",
    "job"
   ]
  },
  {
   "cell_type": "code",
   "execution_count": 7,
   "metadata": {},
   "outputs": [
    {
     "ename": "SyntaxError",
     "evalue": "EOF while scanning triple-quoted string literal (<ipython-input-7-13b93e305b5a>, line 6)",
     "output_type": "error",
     "traceback": [
      "\u001b[1;36m  File \u001b[1;32m\"<ipython-input-7-13b93e305b5a>\"\u001b[1;36m, line \u001b[1;32m6\u001b[0m\n\u001b[1;33m    #search_location.click()\u001b[0m\n\u001b[1;37m                            \n^\u001b[0m\n\u001b[1;31mSyntaxError\u001b[0m\u001b[1;31m:\u001b[0m EOF while scanning triple-quoted string literal\n"
     ]
    }
   ],
   "source": [
    "''''search_location=driver.find_element_by_class_name('fleft naukicon naukicon-checkbox')\n",
    "for i in search_location:\n",
    "    if i.text== \"Delhi / NCR(1443)\":\n",
    "        i.click()\n",
    "        break\n",
    "#search_location.click()"
   ]
  },
  {
   "cell_type": "code",
   "execution_count": 10,
   "metadata": {},
   "outputs": [
    {
     "data": {
      "text/plain": [
       "[<selenium.webdriver.remote.webelement.WebElement (session=\"5b283226db56b968a791077aebe4a802\", element=\"ec03e1fd-c1ee-4836-aa12-b55d9a191bde\")>,\n",
       " <selenium.webdriver.remote.webelement.WebElement (session=\"5b283226db56b968a791077aebe4a802\", element=\"c318274a-4e22-478a-abb8-3cad9468b1da\")>,\n",
       " <selenium.webdriver.remote.webelement.WebElement (session=\"5b283226db56b968a791077aebe4a802\", element=\"2a2489a2-4531-44c2-9588-d48204d3d879\")>,\n",
       " <selenium.webdriver.remote.webelement.WebElement (session=\"5b283226db56b968a791077aebe4a802\", element=\"87e03ae1-a25c-4b5f-a634-db668fff9824\")>,\n",
       " <selenium.webdriver.remote.webelement.WebElement (session=\"5b283226db56b968a791077aebe4a802\", element=\"926e3a21-2d98-464d-8dbe-3820ec615aca\")>,\n",
       " <selenium.webdriver.remote.webelement.WebElement (session=\"5b283226db56b968a791077aebe4a802\", element=\"eedd53bf-f468-482c-aab6-3b8250d16f69\")>,\n",
       " <selenium.webdriver.remote.webelement.WebElement (session=\"5b283226db56b968a791077aebe4a802\", element=\"81ba158b-9ce6-4577-8cd9-e2e5a1bacd36\")>,\n",
       " <selenium.webdriver.remote.webelement.WebElement (session=\"5b283226db56b968a791077aebe4a802\", element=\"56484459-2769-4c15-bf09-d6c367486a14\")>,\n",
       " <selenium.webdriver.remote.webelement.WebElement (session=\"5b283226db56b968a791077aebe4a802\", element=\"b6b3fc15-7481-46be-aae2-c9a098f2ff31\")>,\n",
       " <selenium.webdriver.remote.webelement.WebElement (session=\"5b283226db56b968a791077aebe4a802\", element=\"611b1d6a-e965-4a40-920d-e851713112e7\")>,\n",
       " <selenium.webdriver.remote.webelement.WebElement (session=\"5b283226db56b968a791077aebe4a802\", element=\"ddcfee1b-d48d-492a-a7b7-0683f598d3b3\")>,\n",
       " <selenium.webdriver.remote.webelement.WebElement (session=\"5b283226db56b968a791077aebe4a802\", element=\"3fa1fb92-2e92-4f73-afad-93e7415b9417\")>,\n",
       " <selenium.webdriver.remote.webelement.WebElement (session=\"5b283226db56b968a791077aebe4a802\", element=\"2b1b9586-abd3-40cf-826b-df189d9369b8\")>,\n",
       " <selenium.webdriver.remote.webelement.WebElement (session=\"5b283226db56b968a791077aebe4a802\", element=\"e08757b6-9945-4c52-abdd-aceffd590e41\")>,\n",
       " <selenium.webdriver.remote.webelement.WebElement (session=\"5b283226db56b968a791077aebe4a802\", element=\"36c4dcb2-f803-4b39-8602-cbdc4faaad8f\")>,\n",
       " <selenium.webdriver.remote.webelement.WebElement (session=\"5b283226db56b968a791077aebe4a802\", element=\"deec7c3d-5fa3-4981-98b8-d5f3a1fc8501\")>,\n",
       " <selenium.webdriver.remote.webelement.WebElement (session=\"5b283226db56b968a791077aebe4a802\", element=\"383ff1f2-4bb3-4a02-bc50-68f393a57ed1\")>,\n",
       " <selenium.webdriver.remote.webelement.WebElement (session=\"5b283226db56b968a791077aebe4a802\", element=\"98583896-d027-45b5-8335-6ee0682d22ba\")>,\n",
       " <selenium.webdriver.remote.webelement.WebElement (session=\"5b283226db56b968a791077aebe4a802\", element=\"a8b3c1ef-5ea6-41ce-97d2-f2c732f52cc2\")>,\n",
       " <selenium.webdriver.remote.webelement.WebElement (session=\"5b283226db56b968a791077aebe4a802\", element=\"598db509-a4df-4f09-aea7-6fa904486d69\")>,\n",
       " <selenium.webdriver.remote.webelement.WebElement (session=\"5b283226db56b968a791077aebe4a802\", element=\"4a590960-f8a8-49b6-979e-da5b98596755\")>,\n",
       " <selenium.webdriver.remote.webelement.WebElement (session=\"5b283226db56b968a791077aebe4a802\", element=\"8b8b50ee-8373-4b7e-ac6e-0fbe245dd476\")>,\n",
       " <selenium.webdriver.remote.webelement.WebElement (session=\"5b283226db56b968a791077aebe4a802\", element=\"c7bdb46f-9d31-4af0-bb9d-c6141fff9675\")>,\n",
       " <selenium.webdriver.remote.webelement.WebElement (session=\"5b283226db56b968a791077aebe4a802\", element=\"85090d4b-5ac3-4cf9-ace1-5a53b34e7fe5\")>,\n",
       " <selenium.webdriver.remote.webelement.WebElement (session=\"5b283226db56b968a791077aebe4a802\", element=\"a2639d4d-4f7e-43b6-a314-9691a3724b46\")>,\n",
       " <selenium.webdriver.remote.webelement.WebElement (session=\"5b283226db56b968a791077aebe4a802\", element=\"b636d567-b36f-417f-b025-63ce7314dd94\")>]"
      ]
     },
     "execution_count": 10,
     "metadata": {},
     "output_type": "execute_result"
    }
   ],
   "source": [
    "checkbox=driver.find_elements_by_xpath(\"//i[@class='fleft naukicon naukicon-checkbox']\")\n",
    "checkbox\n",
    "\n"
   ]
  },
  {
   "cell_type": "raw",
   "metadata": {},
   "source": []
  },
  {
   "cell_type": "code",
   "execution_count": 36,
   "metadata": {},
   "outputs": [
    {
     "data": {
      "text/plain": [
       "[<selenium.webdriver.remote.webelement.WebElement (session=\"2aabf815b8af7012b65801fcc6bf0c63\", element=\"a61101e3-ec2d-418d-84c7-41c787809fa2\")>,\n",
       " <selenium.webdriver.remote.webelement.WebElement (session=\"2aabf815b8af7012b65801fcc6bf0c63\", element=\"41ff4678-4a82-485c-9555-329adb1ea399\")>,\n",
       " <selenium.webdriver.remote.webelement.WebElement (session=\"2aabf815b8af7012b65801fcc6bf0c63\", element=\"f78283c2-7663-4184-93e1-0da39533db56\")>]"
      ]
     },
     "execution_count": 36,
     "metadata": {},
     "output_type": "execute_result"
    }
   ],
   "source": [
    "checkbox=driver.find_elements_by_xpath(\"//*[text()='Delhi / NCR']\")\n",
    "checkbox\n",
    "\n"
   ]
  },
  {
   "cell_type": "code",
   "execution_count": 38,
   "metadata": {},
   "outputs": [],
   "source": [
    "for i in checkbox:\n",
    "    time.sleep(2)\n",
    "    if i.text== 'Delhi / NCR(1709)':\n",
    "        i.click()\n",
    "        break"
   ]
  },
  {
   "cell_type": "code",
   "execution_count": null,
   "metadata": {},
   "outputs": [],
   "source": [
    "/html/body/div[1]/div[3]/div[2]/section[1]/div[2]/div[1]/div[2]/div[2]/label/i"
   ]
  },
  {
   "cell_type": "code",
   "execution_count": null,
   "metadata": {},
   "outputs": [],
   "source": [
    "//*[@id=\"root\"]/div[3]/div[2]/section[1]/div[2]/div[1]/div[2]/div[2]/label/i"
   ]
  },
  {
   "cell_type": "code",
   "execution_count": null,
   "metadata": {},
   "outputs": [],
   "source": [
    "unable to get the checkbox click, tried absolute ,text,no go"
   ]
  },
  {
   "cell_type": "markdown",
   "metadata": {},
   "source": [
    "# Q4: Write a python program to scrape data for first 10 job results for Data scientist Designation in Noida location. You have to scrape company_name, No. of days ago when job was posted, Rating of the company."
   ]
  },
  {
   "cell_type": "code",
   "execution_count": 2,
   "metadata": {},
   "outputs": [],
   "source": [
    "import selenium\n",
    "from selenium import webdriver\n",
    "import time\n",
    "from selenium.common.exceptions import NoSuchElementException"
   ]
  },
  {
   "cell_type": "code",
   "execution_count": 3,
   "metadata": {},
   "outputs": [],
   "source": [
    "driver=webdriver.Chrome(\"chromedriver.exe\")"
   ]
  },
  {
   "cell_type": "code",
   "execution_count": 4,
   "metadata": {},
   "outputs": [],
   "source": [
    "time.sleep(5)\n",
    "driver.get(\"https://www.glassdoor.co.in/index.htm\")"
   ]
  },
  {
   "cell_type": "code",
   "execution_count": 5,
   "metadata": {},
   "outputs": [],
   "source": [
    "#extracting the web element for job role and job location.\n",
    "search_job=driver.find_element_by_id(\"sc.keyword\")\n",
    "search_location=driver.find_element_by_id(\"sc.location\")\n",
    "search_job.send_keys(\"Data Scientist\")  #for job title\n",
    "search_location.send_keys(\"Noida\")  # for job location"
   ]
  },
  {
   "cell_type": "code",
   "execution_count": 6,
   "metadata": {},
   "outputs": [],
   "source": [
    "#extracting the web element to click on search button\n",
    "search_button=driver.find_element_by_xpath(\"//button[@class='gd-ui-button ml-std col-auto SearchStyles__newSearchButton css-iixdfr']\")\n",
    "search_button.click()"
   ]
  },
  {
   "cell_type": "code",
   "execution_count": 51,
   "metadata": {},
   "outputs": [
    {
     "name": "stdout",
     "output_type": "stream",
     "text": [
      "the length of job title - 10\n",
      "the length of company - 10\n",
      "the length of salary - 10\n"
     ]
    }
   ],
   "source": [
    "# extracting the top 10 job title\n",
    "search_title=driver.find_elements_by_xpath(\"//a[@class='jobLink css-1rd3saf eigr9kq2']\")\n",
    "search_title=search_title[:10]\n",
    "print(\"the length of job title -\",len(search_title))\n",
    "\n",
    "# extracting the Company name\n",
    "search_company=driver.find_elements_by_xpath(\"//a[@class=' css-l2wjgv e1n63ojh0 jobLink']\")\n",
    "search_company=search_company[:10]\n",
    "print(\"the length of company -\",len(search_company))\n",
    "\n",
    "#extracting the web element salary\n",
    "\n",
    "search_salary=driver.find_elements_by_xpath(\"//span[@class='css-1imh2hq e1wijj242']\")\n",
    "search_salary=search_salary[:10]\n",
    "print(\"the length of salary -\",len(search_salary))\n",
    "\n",
    "#extracting the web element for job_location\n",
    "location=driver.find_elements_by_xpath(\"//span[@class='pr-xxsm css-1ndif2q e1rrn5ka0']\")\n",
    "location=location[:10]"
   ]
  },
  {
   "cell_type": "code",
   "execution_count": null,
   "metadata": {},
   "outputs": [],
   "source": [
    "\n"
   ]
  },
  {
   "cell_type": "code",
   "execution_count": 39,
   "metadata": {},
   "outputs": [],
   "source": [
    "Job_title=[]\n",
    "company_name=[]\n",
    "Job_salary=[]\n",
    "state=[]"
   ]
  },
  {
   "cell_type": "code",
   "execution_count": 40,
   "metadata": {},
   "outputs": [
    {
     "data": {
      "text/plain": [
       "['Data Analyst',\n",
       " 'Associate Machine Learning Engineer',\n",
       " 'Data Scientist',\n",
       " 'Data Scientist',\n",
       " 'Data Scientist',\n",
       " 'Data Scientist',\n",
       " 'Data Scientist',\n",
       " 'Data Scientist',\n",
       " 'Data Scientist',\n",
       " 'Data Scientist']"
      ]
     },
     "execution_count": 40,
     "metadata": {},
     "output_type": "execute_result"
    }
   ],
   "source": [
    "#Getting the job title from web elemrnt using for loop\n",
    "for i in search_title:\n",
    "    Job_title.append(i.text)\n",
    "    \n",
    "Job_title\n",
    "    "
   ]
  },
  {
   "cell_type": "code",
   "execution_count": 41,
   "metadata": {},
   "outputs": [
    {
     "data": {
      "text/plain": [
       "['Taboola',\n",
       " 'Salesforce',\n",
       " 'Ericsson',\n",
       " 'Crowe',\n",
       " 'MobiKwik',\n",
       " 'Siemens Technology and Services Private Limited',\n",
       " 'Priority Vendor',\n",
       " 'Gauge Data Solutions',\n",
       " 'Novo',\n",
       " 'Biz2Credit Inc']"
      ]
     },
     "execution_count": 41,
     "metadata": {},
     "output_type": "execute_result"
    }
   ],
   "source": [
    "#Getting the company name from web elemrnt using for loop\n",
    "for i in search_company:\n",
    "        company_name.append(i.text)\n",
    "company_name"
   ]
  },
  {
   "cell_type": "code",
   "execution_count": 57,
   "metadata": {},
   "outputs": [
    {
     "data": {
      "text/plain": [
       "['₹426K - ₹708K (Glassdoor Est.)',\n",
       " '₹362K - ₹394K (Glassdoor Est.)',\n",
       " '₹970K - ₹1,000K (Glassdoor Est.)',\n",
       " '₹300K - ₹850K (Glassdoor Est.)',\n",
       " '₹500K - ₹800K (Glassdoor Est.)',\n",
       " '₹500K - ₹816K (Glassdoor Est.)',\n",
       " '₹669K - ₹720K (Glassdoor Est.)',\n",
       " '₹512K - ₹711K (Glassdoor Est.)',\n",
       " '₹729K - ₹909K (Glassdoor Est.)',\n",
       " '₹250K - ₹546K (Glassdoor Est.)']"
      ]
     },
     "execution_count": 57,
     "metadata": {},
     "output_type": "execute_result"
    }
   ],
   "source": [
    "#Getting the job salary from web elemrnt using for loop\n",
    "for i in search_salary:\n",
    "    Job_salary.append(i.text)\n",
    "Job_salary=Job_salary[:10]\n",
    "Job_salary"
   ]
  },
  {
   "cell_type": "code",
   "execution_count": 52,
   "metadata": {},
   "outputs": [
    {
     "data": {
      "text/plain": [
       "['New Delhi',\n",
       " 'New Delhi',\n",
       " 'Noida',\n",
       " 'Noida',\n",
       " 'Gurgaon',\n",
       " 'Gurgaon',\n",
       " 'Noida',\n",
       " 'Noida',\n",
       " 'Gurgaon',\n",
       " 'Noida']"
      ]
     },
     "execution_count": 52,
     "metadata": {},
     "output_type": "execute_result"
    }
   ],
   "source": [
    "#Getting the job location from web elemrnt using for loop\n",
    "for i in location:\n",
    "    state.append(i.text)\n",
    "state"
   ]
  },
  {
   "cell_type": "code",
   "execution_count": 55,
   "metadata": {},
   "outputs": [
    {
     "data": {
      "text/html": [
       "<div>\n",
       "<style scoped>\n",
       "    .dataframe tbody tr th:only-of-type {\n",
       "        vertical-align: middle;\n",
       "    }\n",
       "\n",
       "    .dataframe tbody tr th {\n",
       "        vertical-align: top;\n",
       "    }\n",
       "\n",
       "    .dataframe thead th {\n",
       "        text-align: right;\n",
       "    }\n",
       "</style>\n",
       "<table border=\"1\" class=\"dataframe\">\n",
       "  <thead>\n",
       "    <tr style=\"text-align: right;\">\n",
       "      <th></th>\n",
       "      <th>Job_title</th>\n",
       "      <th>Job_location</th>\n",
       "      <th>Salary</th>\n",
       "      <th>company_name</th>\n",
       "    </tr>\n",
       "  </thead>\n",
       "  <tbody>\n",
       "    <tr>\n",
       "      <td>0</td>\n",
       "      <td>Data Analyst</td>\n",
       "      <td>New Delhi</td>\n",
       "      <td>₹426K - ₹708K (Glassdoor Est.)</td>\n",
       "      <td>Taboola</td>\n",
       "    </tr>\n",
       "    <tr>\n",
       "      <td>1</td>\n",
       "      <td>Associate Machine Learning Engineer</td>\n",
       "      <td>New Delhi</td>\n",
       "      <td>₹362K - ₹394K (Glassdoor Est.)</td>\n",
       "      <td>Salesforce</td>\n",
       "    </tr>\n",
       "    <tr>\n",
       "      <td>2</td>\n",
       "      <td>Data Scientist</td>\n",
       "      <td>Noida</td>\n",
       "      <td>₹970K - ₹1,000K (Glassdoor Est.)</td>\n",
       "      <td>Ericsson</td>\n",
       "    </tr>\n",
       "    <tr>\n",
       "      <td>3</td>\n",
       "      <td>Data Scientist</td>\n",
       "      <td>Noida</td>\n",
       "      <td>₹300K - ₹850K (Glassdoor Est.)</td>\n",
       "      <td>Crowe</td>\n",
       "    </tr>\n",
       "    <tr>\n",
       "      <td>4</td>\n",
       "      <td>Data Scientist</td>\n",
       "      <td>Gurgaon</td>\n",
       "      <td>₹500K - ₹800K (Glassdoor Est.)</td>\n",
       "      <td>MobiKwik</td>\n",
       "    </tr>\n",
       "    <tr>\n",
       "      <td>5</td>\n",
       "      <td>Data Scientist</td>\n",
       "      <td>Gurgaon</td>\n",
       "      <td>₹500K - ₹816K (Glassdoor Est.)</td>\n",
       "      <td>Siemens Technology and Services Private Limited</td>\n",
       "    </tr>\n",
       "    <tr>\n",
       "      <td>6</td>\n",
       "      <td>Data Scientist</td>\n",
       "      <td>Noida</td>\n",
       "      <td>₹669K - ₹720K (Glassdoor Est.)</td>\n",
       "      <td>Priority Vendor</td>\n",
       "    </tr>\n",
       "    <tr>\n",
       "      <td>7</td>\n",
       "      <td>Data Scientist</td>\n",
       "      <td>Noida</td>\n",
       "      <td>₹512K - ₹711K (Glassdoor Est.)</td>\n",
       "      <td>Gauge Data Solutions</td>\n",
       "    </tr>\n",
       "    <tr>\n",
       "      <td>8</td>\n",
       "      <td>Data Scientist</td>\n",
       "      <td>Gurgaon</td>\n",
       "      <td>₹729K - ₹909K (Glassdoor Est.)</td>\n",
       "      <td>Novo</td>\n",
       "    </tr>\n",
       "    <tr>\n",
       "      <td>9</td>\n",
       "      <td>Data Scientist</td>\n",
       "      <td>Noida</td>\n",
       "      <td>₹250K - ₹546K (Glassdoor Est.)</td>\n",
       "      <td>Biz2Credit Inc</td>\n",
       "    </tr>\n",
       "  </tbody>\n",
       "</table>\n",
       "</div>"
      ],
      "text/plain": [
       "                             Job_title Job_location  \\\n",
       "0                         Data Analyst    New Delhi   \n",
       "1  Associate Machine Learning Engineer    New Delhi   \n",
       "2                       Data Scientist        Noida   \n",
       "3                       Data Scientist        Noida   \n",
       "4                       Data Scientist      Gurgaon   \n",
       "5                       Data Scientist      Gurgaon   \n",
       "6                       Data Scientist        Noida   \n",
       "7                       Data Scientist        Noida   \n",
       "8                       Data Scientist      Gurgaon   \n",
       "9                       Data Scientist        Noida   \n",
       "\n",
       "                             Salary  \\\n",
       "0    ₹426K - ₹708K (Glassdoor Est.)   \n",
       "1    ₹362K - ₹394K (Glassdoor Est.)   \n",
       "2  ₹970K - ₹1,000K (Glassdoor Est.)   \n",
       "3    ₹300K - ₹850K (Glassdoor Est.)   \n",
       "4    ₹500K - ₹800K (Glassdoor Est.)   \n",
       "5    ₹500K - ₹816K (Glassdoor Est.)   \n",
       "6    ₹669K - ₹720K (Glassdoor Est.)   \n",
       "7    ₹512K - ₹711K (Glassdoor Est.)   \n",
       "8    ₹729K - ₹909K (Glassdoor Est.)   \n",
       "9    ₹250K - ₹546K (Glassdoor Est.)   \n",
       "\n",
       "                                      company_name  \n",
       "0                                          Taboola  \n",
       "1                                       Salesforce  \n",
       "2                                         Ericsson  \n",
       "3                                            Crowe  \n",
       "4                                         MobiKwik  \n",
       "5  Siemens Technology and Services Private Limited  \n",
       "6                                  Priority Vendor  \n",
       "7                             Gauge Data Solutions  \n",
       "8                                             Novo  \n",
       "9                                   Biz2Credit Inc  "
      ]
     },
     "execution_count": 55,
     "metadata": {},
     "output_type": "execute_result"
    }
   ],
   "source": [
    "#Creating the dataframe\n",
    "import pandas as pd\n",
    "df=pd.DataFrame({\n",
    "    'Job_title':Job_title,\n",
    "    'Job_location':state,\n",
    "    'Salary'  : Job_salary,\n",
    "    'company_name' : company_name\n",
    "})\n",
    "df"
   ]
  },
  {
   "cell_type": "markdown",
   "metadata": {},
   "source": [
    "# Q5: Write a python program to scrape the salary data for Data Scientist designation in Noida location.\n",
    "You have to scrape Company name, Number of salaries, Average salary, Min salary, Max Salary."
   ]
  },
  {
   "cell_type": "code",
   "execution_count": 48,
   "metadata": {},
   "outputs": [],
   "source": [
    "import selenium\n",
    "from selenium import webdriver\n",
    "from selenium.common.exceptions import NoSuchElementException\n",
    "import time"
   ]
  },
  {
   "cell_type": "code",
   "execution_count": 49,
   "metadata": {},
   "outputs": [],
   "source": [
    "driver=webdriver.Chrome(\"chromedriver.exe\")"
   ]
  },
  {
   "cell_type": "code",
   "execution_count": 50,
   "metadata": {},
   "outputs": [],
   "source": [
    "driver.get(\"https://www.glassdoor.co.in/Salaries/index.htm\")"
   ]
  },
  {
   "cell_type": "code",
   "execution_count": 51,
   "metadata": {},
   "outputs": [],
   "source": [
    "Search_title=driver.find_element_by_xpath(\"//input[@class='keyword']\")\n",
    "Search_title.send_keys(\"Data Scientist\")\n",
    "# searching the web element for location and sending values to it.\n",
    "search_location=driver.find_element_by_id(\"LocationSearch\")\n",
    "search_location.send_keys(\"Noida\")\n"
   ]
  },
  {
   "cell_type": "code",
   "execution_count": 52,
   "metadata": {},
   "outputs": [],
   "source": [
    "#searching the web element for search button and click on it.\n",
    "button=driver.find_element_by_xpath(\"//button[@class='gd-btn-mkt']\")\n",
    "button.click()"
   ]
  },
  {
   "cell_type": "markdown",
   "metadata": {},
   "source": [
    "Scrape data for first 10 companies. Scrape the min salary, max salary, company name, Average salary and rating of the company."
   ]
  },
  {
   "cell_type": "code",
   "execution_count": 55,
   "metadata": {},
   "outputs": [
    {
     "data": {
      "text/plain": [
       "44"
      ]
     },
     "execution_count": 55,
     "metadata": {},
     "output_type": "execute_result"
    }
   ],
   "source": [
    "# scraping the company name\n",
    "search_company=driver.find_elements_by_xpath(\"//a[@class='css-f3vw95 e1aj7ssy3']\")\n",
    "len(search_company)\n",
    "#scraping the  average salary\n",
    "search_avg=driver.find_elements_by_xpath(\"//h3[@class='m-0 css-g261rn']\")\n",
    "len(search_avg)"
   ]
  },
  {
   "cell_type": "code",
   "execution_count": 56,
   "metadata": {},
   "outputs": [],
   "source": [
    "company_name=[]\n",
    "avg_salary=[]"
   ]
  },
  {
   "cell_type": "code",
   "execution_count": 57,
   "metadata": {},
   "outputs": [
    {
     "data": {
      "text/plain": [
       "['IBM',\n",
       " 'Tata Consultancy Services',\n",
       " 'Accenture',\n",
       " 'Delhivery',\n",
       " 'Ericsson-Worldwide',\n",
       " 'UnitedHealth Group',\n",
       " 'Valiance Solutions',\n",
       " 'EXL Service',\n",
       " 'Optum Global Solutions',\n",
       " 'ZS Associates',\n",
       " 'Optum',\n",
       " 'Innovaccer',\n",
       " 'Cognizant Technology Solutions',\n",
       " 'OYO',\n",
       " 'Nagarro',\n",
       " 'dunnhumby',\n",
       " 'Vidooly Media Tech',\n",
       " 'Tech Mahindra',\n",
       " 'R Systems',\n",
       " 'CARS24.com']"
      ]
     },
     "execution_count": 57,
     "metadata": {},
     "output_type": "execute_result"
    }
   ],
   "source": [
    "for i in search_company:\n",
    "    company_name.append(i.text)\n",
    "company_name"
   ]
  },
  {
   "cell_type": "code",
   "execution_count": 58,
   "metadata": {},
   "outputs": [
    {
     "data": {
      "text/plain": [
       "['Big Data',\n",
       " 'Data Analyst',\n",
       " 'Quantitative Analyst',\n",
       " 'Senior Data Scientist',\n",
       " 'IBM',\n",
       " '₹9,00,000',\n",
       " 'Tata Consultancy Services',\n",
       " '₹6,15,289',\n",
       " 'Accenture',\n",
       " '₹11,63,336',\n",
       " 'Delhivery',\n",
       " '₹12,18,244',\n",
       " 'Ericsson-Worldwide',\n",
       " '₹7,39,238',\n",
       " 'UnitedHealth Group',\n",
       " '₹13,19,140',\n",
       " 'Valiance Solutions',\n",
       " '₹8,63,750',\n",
       " 'EXL Service',\n",
       " '₹11,10,000',\n",
       " 'Optum Global Solutions',\n",
       " '₹13,28,697',\n",
       " 'ZS Associates',\n",
       " '₹11,42,356',\n",
       " 'Optum',\n",
       " '₹13,20,960',\n",
       " 'Innovaccer',\n",
       " '₹12,09,040',\n",
       " 'Cognizant Technology Solutions',\n",
       " '₹10,09,021',\n",
       " 'OYO',\n",
       " '₹12,58,227',\n",
       " 'Nagarro',\n",
       " '₹9,92,632',\n",
       " 'dunnhumby',\n",
       " '₹10,55,478',\n",
       " 'Vidooly Media Tech',\n",
       " '₹34,157',\n",
       " 'Tech Mahindra',\n",
       " '₹10,54,402',\n",
       " 'R Systems',\n",
       " '₹18,40,134',\n",
       " 'CARS24.com',\n",
       " '₹10,00,000']"
      ]
     },
     "execution_count": 58,
     "metadata": {},
     "output_type": "execute_result"
    }
   ],
   "source": [
    "salary=[]\n",
    "for i in search_avg:\n",
    "    salary.append(i.text)\n",
    "salary\n",
    "\n",
    "\n",
    "    "
   ]
  },
  {
   "cell_type": "code",
   "execution_count": 59,
   "metadata": {},
   "outputs": [
    {
     "data": {
      "text/plain": [
       "['₹9,00,000',\n",
       " '₹6,15,289',\n",
       " '₹11,63,336',\n",
       " '₹12,18,244',\n",
       " '₹7,39,238',\n",
       " '₹13,19,140',\n",
       " '₹8,63,750',\n",
       " '₹11,10,000',\n",
       " '₹13,28,697',\n",
       " '₹11,42,356']"
      ]
     },
     "execution_count": 59,
     "metadata": {},
     "output_type": "execute_result"
    }
   ],
   "source": [
    "#Using the range function to get the income.\n",
    "#tried with step 1and 2 but unable to get rid of company name.  { doubt please explain why  it is not working }\n",
    "for i in range(5,len(salary),2):\n",
    "    avg_salary.append(salary[i])\n",
    "avg_salary=avg_salary[:10]\n",
    "avg_salary"
   ]
  },
  {
   "cell_type": "markdown",
   "metadata": {},
   "source": []
  },
  {
   "cell_type": "code",
   "execution_count": 60,
   "metadata": {},
   "outputs": [
    {
     "data": {
      "text/plain": [
       "[<selenium.webdriver.remote.webelement.WebElement (session=\"80b5a99f621d7a60b885571f38f719a5\", element=\"312bbba3-c0b5-4981-a170-648f94ba2b60\")>,\n",
       " <selenium.webdriver.remote.webelement.WebElement (session=\"80b5a99f621d7a60b885571f38f719a5\", element=\"d59abe44-d1db-47a6-a1e6-b3e8fcd80740\")>,\n",
       " <selenium.webdriver.remote.webelement.WebElement (session=\"80b5a99f621d7a60b885571f38f719a5\", element=\"746a5650-035b-48d7-8e37-2c3c0e4d9a21\")>,\n",
       " <selenium.webdriver.remote.webelement.WebElement (session=\"80b5a99f621d7a60b885571f38f719a5\", element=\"bbbc5cc3-5c5c-4140-bb3d-58da46fbd835\")>,\n",
       " <selenium.webdriver.remote.webelement.WebElement (session=\"80b5a99f621d7a60b885571f38f719a5\", element=\"9d107584-230b-4971-a16c-8874a2fec08c\")>,\n",
       " <selenium.webdriver.remote.webelement.WebElement (session=\"80b5a99f621d7a60b885571f38f719a5\", element=\"c3152057-bb99-4647-b33a-13f6211e2e95\")>,\n",
       " <selenium.webdriver.remote.webelement.WebElement (session=\"80b5a99f621d7a60b885571f38f719a5\", element=\"7f53a819-9d01-4813-815c-d0ec71a0e632\")>,\n",
       " <selenium.webdriver.remote.webelement.WebElement (session=\"80b5a99f621d7a60b885571f38f719a5\", element=\"f031560c-83e5-4029-91e0-4afe248f3d08\")>,\n",
       " <selenium.webdriver.remote.webelement.WebElement (session=\"80b5a99f621d7a60b885571f38f719a5\", element=\"2876ced4-f8ec-400d-a44d-926d46bc101a\")>,\n",
       " <selenium.webdriver.remote.webelement.WebElement (session=\"80b5a99f621d7a60b885571f38f719a5\", element=\"5509ba0c-3db8-4485-abc8-f5106e34ed95\")>,\n",
       " <selenium.webdriver.remote.webelement.WebElement (session=\"80b5a99f621d7a60b885571f38f719a5\", element=\"5bbee9b0-2819-419b-adf6-0f9cc648c256\")>,\n",
       " <selenium.webdriver.remote.webelement.WebElement (session=\"80b5a99f621d7a60b885571f38f719a5\", element=\"5a34523e-cdac-4226-b794-60b857ca3b5c\")>,\n",
       " <selenium.webdriver.remote.webelement.WebElement (session=\"80b5a99f621d7a60b885571f38f719a5\", element=\"e6ae45a1-347d-4d21-acd0-35590dd930fe\")>,\n",
       " <selenium.webdriver.remote.webelement.WebElement (session=\"80b5a99f621d7a60b885571f38f719a5\", element=\"cf7e8247-daf8-4483-8c0e-b7f9ae7726d5\")>,\n",
       " <selenium.webdriver.remote.webelement.WebElement (session=\"80b5a99f621d7a60b885571f38f719a5\", element=\"f7bebffd-9a5e-42d7-912b-a56e2527db05\")>,\n",
       " <selenium.webdriver.remote.webelement.WebElement (session=\"80b5a99f621d7a60b885571f38f719a5\", element=\"074816a3-f10d-4ae4-9290-74a65f93a5f1\")>,\n",
       " <selenium.webdriver.remote.webelement.WebElement (session=\"80b5a99f621d7a60b885571f38f719a5\", element=\"96d50f9f-893f-486a-9b69-b956f4ca8c1a\")>,\n",
       " <selenium.webdriver.remote.webelement.WebElement (session=\"80b5a99f621d7a60b885571f38f719a5\", element=\"2ba1b9d6-8e9f-4b70-a31a-84f4aecf868b\")>,\n",
       " <selenium.webdriver.remote.webelement.WebElement (session=\"80b5a99f621d7a60b885571f38f719a5\", element=\"70d43ea5-cd01-40c1-80ba-cb26c380600f\")>,\n",
       " <selenium.webdriver.remote.webelement.WebElement (session=\"80b5a99f621d7a60b885571f38f719a5\", element=\"de9a944a-6d08-4161-baa8-2a0155792a6c\")>,\n",
       " <selenium.webdriver.remote.webelement.WebElement (session=\"80b5a99f621d7a60b885571f38f719a5\", element=\"cf2cdf68-140c-4df8-a661-60649a308400\")>,\n",
       " <selenium.webdriver.remote.webelement.WebElement (session=\"80b5a99f621d7a60b885571f38f719a5\", element=\"9e52df4e-3afb-4b25-8607-37e9ebdb43ac\")>,\n",
       " <selenium.webdriver.remote.webelement.WebElement (session=\"80b5a99f621d7a60b885571f38f719a5\", element=\"35c856ed-c0b6-4281-b204-4124fdbbaafe\")>,\n",
       " <selenium.webdriver.remote.webelement.WebElement (session=\"80b5a99f621d7a60b885571f38f719a5\", element=\"96757c72-759e-4a6a-9998-18e1ae0c85b0\")>,\n",
       " <selenium.webdriver.remote.webelement.WebElement (session=\"80b5a99f621d7a60b885571f38f719a5\", element=\"970c92a6-6e35-4a06-b4fa-167cc59fe92e\")>,\n",
       " <selenium.webdriver.remote.webelement.WebElement (session=\"80b5a99f621d7a60b885571f38f719a5\", element=\"d1bda542-f3c8-43a5-be71-cbbbc2357ab3\")>,\n",
       " <selenium.webdriver.remote.webelement.WebElement (session=\"80b5a99f621d7a60b885571f38f719a5\", element=\"7ed1df9f-010d-430e-b861-f489b31d2c55\")>,\n",
       " <selenium.webdriver.remote.webelement.WebElement (session=\"80b5a99f621d7a60b885571f38f719a5\", element=\"8a3ca847-ad63-4578-8ad5-f1ba6e9f767e\")>,\n",
       " <selenium.webdriver.remote.webelement.WebElement (session=\"80b5a99f621d7a60b885571f38f719a5\", element=\"422c3949-0817-4a83-a39f-fde247984c38\")>,\n",
       " <selenium.webdriver.remote.webelement.WebElement (session=\"80b5a99f621d7a60b885571f38f719a5\", element=\"9fcb148c-50ac-4e11-8684-6e79aa4ad916\")>,\n",
       " <selenium.webdriver.remote.webelement.WebElement (session=\"80b5a99f621d7a60b885571f38f719a5\", element=\"b84387e6-328a-4775-a276-7e36ec97994c\")>,\n",
       " <selenium.webdriver.remote.webelement.WebElement (session=\"80b5a99f621d7a60b885571f38f719a5\", element=\"ea568636-0831-432e-8d2f-2b4e73ec637b\")>,\n",
       " <selenium.webdriver.remote.webelement.WebElement (session=\"80b5a99f621d7a60b885571f38f719a5\", element=\"438d85f2-edef-407d-b66c-b3f89c34f1a0\")>,\n",
       " <selenium.webdriver.remote.webelement.WebElement (session=\"80b5a99f621d7a60b885571f38f719a5\", element=\"90612cec-36c5-46d4-a404-60ab6b1287ea\")>,\n",
       " <selenium.webdriver.remote.webelement.WebElement (session=\"80b5a99f621d7a60b885571f38f719a5\", element=\"732ae7b7-42d3-4449-a124-a44ccbda7b0b\")>,\n",
       " <selenium.webdriver.remote.webelement.WebElement (session=\"80b5a99f621d7a60b885571f38f719a5\", element=\"c94dabc3-e5dc-4f40-bd48-db33a4f2af66\")>,\n",
       " <selenium.webdriver.remote.webelement.WebElement (session=\"80b5a99f621d7a60b885571f38f719a5\", element=\"f0528395-c9ae-4686-980d-d124f5a8893a\")>,\n",
       " <selenium.webdriver.remote.webelement.WebElement (session=\"80b5a99f621d7a60b885571f38f719a5\", element=\"fdaff6ff-b084-4e88-91ed-60a12274f6ab\")>,\n",
       " <selenium.webdriver.remote.webelement.WebElement (session=\"80b5a99f621d7a60b885571f38f719a5\", element=\"a88f12ae-ec9f-47c9-bca0-21f0db435eed\")>,\n",
       " <selenium.webdriver.remote.webelement.WebElement (session=\"80b5a99f621d7a60b885571f38f719a5\", element=\"f27cb645-23bb-4716-a1fa-90fb91994797\")>]"
      ]
     },
     "execution_count": 60,
     "metadata": {},
     "output_type": "execute_result"
    }
   ],
   "source": [
    "#scraping the min salary\n",
    "\n",
    "search_minsal=driver.find_elements_by_xpath(\"//div[@class='d-flex mt-xxsm css-79elbk epuxyqn0']//p\")\n",
    "search_minsal"
   ]
  },
  {
   "cell_type": "code",
   "execution_count": 64,
   "metadata": {},
   "outputs": [
    {
     "data": {
      "text/plain": [
       "['₹6L',\n",
       " '₹27L',\n",
       " '₹3L',\n",
       " '₹13L',\n",
       " '₹6L',\n",
       " '₹22L',\n",
       " '₹5L',\n",
       " '₹1Cr',\n",
       " '₹4L',\n",
       " '₹16L',\n",
       " '₹11L',\n",
       " '₹15L',\n",
       " '₹5L',\n",
       " '₹15L',\n",
       " '₹6L',\n",
       " '₹15L',\n",
       " '₹4L',\n",
       " '₹22L',\n",
       " '₹2L',\n",
       " '₹18L',\n",
       " '₹8L',\n",
       " '₹20L',\n",
       " '₹6L',\n",
       " '₹17L',\n",
       " '₹8L',\n",
       " '₹13L',\n",
       " '₹10L',\n",
       " '₹19L',\n",
       " '₹4L',\n",
       " '₹16L',\n",
       " '₹8L',\n",
       " '₹20L',\n",
       " '₹12T',\n",
       " '₹63T',\n",
       " '₹4L',\n",
       " '₹17L',\n",
       " '₹8L',\n",
       " '₹30L',\n",
       " '₹9L',\n",
       " '₹15L']"
      ]
     },
     "execution_count": 64,
     "metadata": {},
     "output_type": "execute_result"
    }
   ],
   "source": [
    "min_sal=[]\n",
    "max_sal=[]\n",
    "for i in search_minsal:\n",
    "    min_sal.append(i.text)\n",
    "min_sal\n"
   ]
  },
  {
   "cell_type": "code",
   "execution_count": 65,
   "metadata": {},
   "outputs": [
    {
     "name": "stdout",
     "output_type": "stream",
     "text": [
      "the min salary- /n ['₹6L', '₹3L', '₹6L', '₹5L', '₹4L', '₹11L', '₹5L', '₹6L', '₹4L', '₹2L'] length- 10\n",
      "the max salary- ['₹3L', '₹5L', '₹11L', '₹6L', '₹2L']\n"
     ]
    }
   ],
   "source": [
    "#now scraping the min_sal and max_sal using the for loop.\n",
    "min_sal=min_sal[0:20:2]\n",
    "#max_sal=min_sal[1:30:2]\n",
    "\n",
    "print(\"the min salary- /n\",min_sal,\"length-\",len(min_sal))\n"
   ]
  },
  {
   "cell_type": "code",
   "execution_count": 74,
   "metadata": {},
   "outputs": [
    {
     "data": {
      "text/plain": [
       "['₹3L', '₹6L', '₹5L', '₹4L', '₹11L', '₹5L', '₹6L', '₹4L', '₹2L', '₹4L']"
      ]
     },
     "execution_count": 74,
     "metadata": {},
     "output_type": "execute_result"
    }
   ],
   "source": [
    "Max_sal=min_sal[1:42:1]\n",
    "Max_sal.append('₹4L')\n",
    "Max_sal"
   ]
  },
  {
   "cell_type": "code",
   "execution_count": 27,
   "metadata": {},
   "outputs": [
    {
     "data": {
      "text/plain": [
       "['3.9', '3.9', '4', '3.9', '4', '3.7', '4.2', '3.6', '3.9', '4']"
      ]
     },
     "execution_count": 27,
     "metadata": {},
     "output_type": "execute_result"
    }
   ],
   "source": [
    "#rating \n",
    "search_rating = driver.find_elements_by_xpath(\"//span[@class='m-0 css-kyx745']\")\n",
    "search_rating\n",
    "rating=[]\n",
    "for i in search_rating:\n",
    "    rating.append(i.text)\n",
    "Rating=rating[:10]\n",
    "Rating\n",
    "    \n"
   ]
  },
  {
   "cell_type": "code",
   "execution_count": 76,
   "metadata": {},
   "outputs": [],
   "source": [
    "# indexing only 10 element \n",
    "company_name=company_name[:10]\n",
    "avg_salary=avg_salary[:10]"
   ]
  },
  {
   "cell_type": "code",
   "execution_count": 78,
   "metadata": {},
   "outputs": [
    {
     "data": {
      "text/html": [
       "<div>\n",
       "<style scoped>\n",
       "    .dataframe tbody tr th:only-of-type {\n",
       "        vertical-align: middle;\n",
       "    }\n",
       "\n",
       "    .dataframe tbody tr th {\n",
       "        vertical-align: top;\n",
       "    }\n",
       "\n",
       "    .dataframe thead th {\n",
       "        text-align: right;\n",
       "    }\n",
       "</style>\n",
       "<table border=\"1\" class=\"dataframe\">\n",
       "  <thead>\n",
       "    <tr style=\"text-align: right;\">\n",
       "      <th></th>\n",
       "      <th>company_name</th>\n",
       "      <th>Rating</th>\n",
       "      <th>avg_salary</th>\n",
       "      <th>min_salary</th>\n",
       "      <th>max_salary</th>\n",
       "    </tr>\n",
       "  </thead>\n",
       "  <tbody>\n",
       "    <tr>\n",
       "      <td>0</td>\n",
       "      <td>IBM</td>\n",
       "      <td>3.9</td>\n",
       "      <td>₹9,00,000</td>\n",
       "      <td>₹6L</td>\n",
       "      <td>₹3L</td>\n",
       "    </tr>\n",
       "    <tr>\n",
       "      <td>1</td>\n",
       "      <td>Tata Consultancy Services</td>\n",
       "      <td>3.9</td>\n",
       "      <td>₹6,15,289</td>\n",
       "      <td>₹3L</td>\n",
       "      <td>₹6L</td>\n",
       "    </tr>\n",
       "    <tr>\n",
       "      <td>2</td>\n",
       "      <td>Accenture</td>\n",
       "      <td>4</td>\n",
       "      <td>₹11,63,336</td>\n",
       "      <td>₹6L</td>\n",
       "      <td>₹5L</td>\n",
       "    </tr>\n",
       "    <tr>\n",
       "      <td>3</td>\n",
       "      <td>Delhivery</td>\n",
       "      <td>3.9</td>\n",
       "      <td>₹12,18,244</td>\n",
       "      <td>₹5L</td>\n",
       "      <td>₹4L</td>\n",
       "    </tr>\n",
       "    <tr>\n",
       "      <td>4</td>\n",
       "      <td>Ericsson-Worldwide</td>\n",
       "      <td>4</td>\n",
       "      <td>₹7,39,238</td>\n",
       "      <td>₹4L</td>\n",
       "      <td>₹11L</td>\n",
       "    </tr>\n",
       "    <tr>\n",
       "      <td>5</td>\n",
       "      <td>UnitedHealth Group</td>\n",
       "      <td>3.7</td>\n",
       "      <td>₹13,19,140</td>\n",
       "      <td>₹11L</td>\n",
       "      <td>₹5L</td>\n",
       "    </tr>\n",
       "    <tr>\n",
       "      <td>6</td>\n",
       "      <td>Valiance Solutions</td>\n",
       "      <td>4.2</td>\n",
       "      <td>₹8,63,750</td>\n",
       "      <td>₹5L</td>\n",
       "      <td>₹6L</td>\n",
       "    </tr>\n",
       "    <tr>\n",
       "      <td>7</td>\n",
       "      <td>EXL Service</td>\n",
       "      <td>3.6</td>\n",
       "      <td>₹11,10,000</td>\n",
       "      <td>₹6L</td>\n",
       "      <td>₹4L</td>\n",
       "    </tr>\n",
       "    <tr>\n",
       "      <td>8</td>\n",
       "      <td>Optum Global Solutions</td>\n",
       "      <td>3.9</td>\n",
       "      <td>₹13,28,697</td>\n",
       "      <td>₹4L</td>\n",
       "      <td>₹2L</td>\n",
       "    </tr>\n",
       "    <tr>\n",
       "      <td>9</td>\n",
       "      <td>ZS Associates</td>\n",
       "      <td>4</td>\n",
       "      <td>₹11,42,356</td>\n",
       "      <td>₹2L</td>\n",
       "      <td>₹4L</td>\n",
       "    </tr>\n",
       "  </tbody>\n",
       "</table>\n",
       "</div>"
      ],
      "text/plain": [
       "                company_name Rating  avg_salary min_salary max_salary\n",
       "0                        IBM    3.9   ₹9,00,000        ₹6L        ₹3L\n",
       "1  Tata Consultancy Services    3.9   ₹6,15,289        ₹3L        ₹6L\n",
       "2                  Accenture      4  ₹11,63,336        ₹6L        ₹5L\n",
       "3                  Delhivery    3.9  ₹12,18,244        ₹5L        ₹4L\n",
       "4         Ericsson-Worldwide      4   ₹7,39,238        ₹4L       ₹11L\n",
       "5         UnitedHealth Group    3.7  ₹13,19,140       ₹11L        ₹5L\n",
       "6         Valiance Solutions    4.2   ₹8,63,750        ₹5L        ₹6L\n",
       "7                EXL Service    3.6  ₹11,10,000        ₹6L        ₹4L\n",
       "8     Optum Global Solutions    3.9  ₹13,28,697        ₹4L        ₹2L\n",
       "9              ZS Associates      4  ₹11,42,356        ₹2L        ₹4L"
      ]
     },
     "execution_count": 78,
     "metadata": {},
     "output_type": "execute_result"
    }
   ],
   "source": [
    "import pandas as pd\n",
    "df=pd.DataFrame({\n",
    "    \"company_name\" :company_name,\n",
    "    \"Rating\": Rating,\n",
    "    \"avg_salary\": avg_salary,\n",
    "    \"min_salary\":min_sal,\n",
    "    \n",
    "    \"max_salary\": Max_sal\n",
    "})\n",
    "df"
   ]
  },
  {
   "cell_type": "markdown",
   "metadata": {},
   "source": [
    "# Q6 : Scrape data of first 100 sunglasses listings on flipkart.com. You have to scrape four attributes:\n",
    "1. Brand\n",
    "2. Product Description\n",
    "3. Price\n",
    "4. Discount %"
   ]
  },
  {
   "cell_type": "code",
   "execution_count": 112,
   "metadata": {},
   "outputs": [],
   "source": [
    "import selenium\n",
    "from selenium import webdriver\n",
    "import time\n",
    "from selenium.common.exceptions import NoSuchElementException"
   ]
  },
  {
   "cell_type": "code",
   "execution_count": 113,
   "metadata": {},
   "outputs": [],
   "source": [
    "driver=webdriver.Chrome(\"chromedriver.exe\")"
   ]
  },
  {
   "cell_type": "code",
   "execution_count": 114,
   "metadata": {},
   "outputs": [],
   "source": [
    "driver.get(\"https://www.flipkart.com/\")"
   ]
  },
  {
   "cell_type": "code",
   "execution_count": 115,
   "metadata": {},
   "outputs": [],
   "source": [
    "#getting the web element for search box and giving the values\n",
    "search_glasses=driver.find_element_by_xpath(\"//input[@class='_3704LK']\")\n",
    "search_glasses.send_keys(\"sunglasses\")\n",
    "#finding the search key option and click on it.\n",
    "search_key=driver.find_element_by_xpath(\"//button[@class='L0Z3Pu']\")\n",
    "search_key.click()"
   ]
  },
  {
   "cell_type": "code",
   "execution_count": 100,
   "metadata": {},
   "outputs": [
    {
     "name": "stdout",
     "output_type": "stream",
     "text": [
      "Brand name--\n",
      "['HAMIW COLLECTION', 'ROYAL SON', 'Fastrack', 'PIRASO', 'kingsunglasses', 'PHENOMENAL', 'Silver Kartz', 'HAMIW COLLECTION', 'IRUS by IDEE', 'Singco India', 'DEIXELS', 'Silver Kartz', 'hipe', 'GANSTA', 'HIPPON', 'ROYAL SON', 'ROZZETTA CRAFT', 'NuVew', 'Flizz', 'ROYAL SON', 'United Colors of Benetton', 'elegante', 'ROYAL SON', 'Silver Kartz', 'FOSSIL', 'Singco', 'Wrogn', 'HAMIW COLLECTION', 'IDEE', 'Fravy', 'BEQUBE', 'Silver Kartz', 'Poland', 'Fastrack', 'kingsunglasses', 'Silver Kartz', 'PIRASO', 'PHENOMENAL', 'Singco India', 'VINCENT CHASE']\n",
      "\n",
      "length of brandName--40\n"
     ]
    }
   ],
   "source": [
    "#Searching for the brand name\n",
    "search_brand=driver.find_elements_by_xpath(\"//div[@class='_2WkVRV']\")\n",
    "Brand_name=[]\n",
    "for i in search_brand:\n",
    "    Brand_name.append(i.text)\n",
    "Brand_name\n",
    "print(f\"Brand name--\\n{Brand_name}\\n\\nlength of brandName--{len(Brand_name)}\")    "
   ]
  },
  {
   "cell_type": "code",
   "execution_count": 105,
   "metadata": {},
   "outputs": [
    {
     "name": "stdout",
     "output_type": "stream",
     "text": [
      "The list of Produc Description- \n",
      "['UV Protection Wayfarer, Sports, Shield, Rectangular, Re...', 'UV Protection Retro Square Sunglasses (88)', 'UV Protection Wayfarer Sunglasses (Free Size)', 'UV Protection Aviator Sunglasses (54)', 'Mirrored, UV Protection Wayfarer Sunglasses (Free Size)', 'UV Protection Retro Square Sunglasses (Free Size)', 'UV Protection Wayfarer Sunglasses (Free Size)', 'UV Protection Round Sunglasses (Free Size)', 'Gradient Rectangular Sunglasses (56)', 'Mirrored, Riding Glasses, Others Sports Sunglasses (50)', 'UV Protection Aviator, Wayfarer Sunglasses (Free Size)', 'UV Protection Aviator Sunglasses (88)', 'UV Protection Sports Sunglasses (Free Size)', 'UV Protection Aviator Sunglasses (57)', 'UV Protection Wayfarer Sunglasses (55)', 'Polarized Retro Square Sunglasses (58)', 'UV Protection Retro Square Sunglasses (Free Size)', 'UV Protection Aviator Sunglasses (58)', 'UV Protection Retro Square Sunglasses (Free Size)', 'UV Protection, Gradient Round Sunglasses (53)', 'Mirrored, UV Protection Rectangular Sunglasses (56)', 'UV Protection Round Sunglasses (Free Size)', 'Polarized Rectangular Sunglasses (65)', 'UV Protection Aviator Sunglasses (62)', 'Others Rectangular Sunglasses (59)', 'UV Protection, Others Aviator Sunglasses (32)', 'Mirrored Wayfarer Sunglasses (56)', 'UV Protection, Night Vision, Gradient Retro Square, Spe...', 'Gradient Aviator Sunglasses (60)', 'UV Protection Retro Square Sunglasses (Free Size)', 'UV Protection Wayfarer Sunglasses (Free Size)', 'UV Protection Oval Sunglasses (56)', 'UV Protection Wayfarer Sunglasses (Free Size)', 'UV Protection Rectangular Sunglasses (Free Size)', 'UV Protection Rectangular Sunglasses (55)', 'UV Protection Wayfarer, Aviator Sunglasses (88)', 'UV Protection Aviator Sunglasses (Free Size)', 'UV Protection Round Sunglasses (53)', 'UV Protection Aviator Sunglasses (Free Size)', 'by Lenskart UV Protection Wayfarer Sunglasses (49)']\n"
     ]
    }
   ],
   "source": [
    "#serching for the Brand description\n",
    "search_des=driver.find_elements_by_xpath(\"//a[@class='IRpwTa']\")\n",
    "Product_Description=[]\n",
    "for i in search_des:\n",
    "    Product_Description.append(i.text)\n",
    "Product_Description\n",
    "print(f\"The list of Product Description- \\n{Product_Description}\")"
   ]
  },
  {
   "cell_type": "code",
   "execution_count": 108,
   "metadata": {},
   "outputs": [
    {
     "name": "stdout",
     "output_type": "stream",
     "text": [
      "['₹149', '₹599', '₹758', '₹237', '₹299', '₹399', '₹246', '₹179', '₹606', '₹252', '₹213', '₹255', '₹299', '₹281', '₹251', '₹854', '₹499', '₹215', '₹399', '₹699', '₹1,222', '₹199', '₹699', '₹255', '₹1,843', '₹355', '₹676', '₹389', '₹1,031', '₹299', '₹408', '₹284', '₹162', '₹513', '₹349', '₹265', '₹331', '₹319', '₹352', '₹1,179']\n"
     ]
    }
   ],
   "source": [
    "#3 Searching for the price.\n",
    "Search_price=driver.find_elements_by_xpath(\"//div[@class='_30jeq3']\")\n",
    "Price=[]\n",
    "for i in Search_price:\n",
    "    Price.append(i.text)\n",
    "print(Price)"
   ]
  },
  {
   "cell_type": "code",
   "execution_count": 110,
   "metadata": {},
   "outputs": [
    {
     "data": {
      "text/plain": [
       "['₹1150 off',\n",
       " '₹1400 off',\n",
       " '₹141 off',\n",
       " '₹1362 off',\n",
       " '₹2300 off',\n",
       " '₹1600 off',\n",
       " '₹1253 off',\n",
       " '₹1320 off',\n",
       " '₹679 off',\n",
       " '₹1247 off',\n",
       " '₹986 off',\n",
       " '₹944 off',\n",
       " '₹1600 off',\n",
       " '₹1718 off',\n",
       " '₹948 off',\n",
       " '₹1145 off',\n",
       " '₹1726 off',\n",
       " '₹570 off',\n",
       " '₹1800 off',\n",
       " '₹1300 off',\n",
       " '₹2878 off',\n",
       " '₹800 off',\n",
       " '₹1300 off',\n",
       " '₹944 off',\n",
       " '₹4057 off',\n",
       " '₹1644 off',\n",
       " '₹1873 off',\n",
       " '₹2610 off',\n",
       " '₹1949 off',\n",
       " '₹1200 off',\n",
       " '₹1791 off',\n",
       " '₹915 off',\n",
       " '₹337 off',\n",
       " '₹286 off',\n",
       " '₹1150 off',\n",
       " '₹934 off',\n",
       " '₹1268 off',\n",
       " '₹1979 off',\n",
       " '₹847 off',\n",
       " '₹820 off']"
      ]
     },
     "execution_count": 110,
     "metadata": {},
     "output_type": "execute_result"
    }
   ],
   "source": [
    "#4Searching for the discount\n",
    "Search_discount=driver.find_elements_by_xpath(\"//div[@class='_3Ay6Sb']\")\n",
    "discount=[]\n",
    "for i in Search_discount:\n",
    "    Try:\n",
    "    discount.append(i.text)\n",
    "discount\n"
   ]
  },
  {
   "cell_type": "code",
   "execution_count": null,
   "metadata": {},
   "outputs": [],
   "source": [
    "# going to next page\n"
   ]
  },
  {
   "cell_type": "code",
   "execution_count": 119,
   "metadata": {},
   "outputs": [
    {
     "data": {
      "text/plain": [
       "[]"
      ]
     },
     "execution_count": 119,
     "metadata": {},
     "output_type": "execute_result"
    }
   ],
   "source": [
    "search_next=driver.find_elements_by_xpath(\"div[@class='_2MImiq']/a\")\n",
    "search_next"
   ]
  },
  {
   "cell_type": "code",
   "execution_count": null,
   "metadata": {},
   "outputs": [],
   "source": []
  },
  {
   "cell_type": "code",
   "execution_count": null,
   "metadata": {},
   "outputs": [],
   "source": []
  },
  {
   "cell_type": "code",
   "execution_count": null,
   "metadata": {},
   "outputs": [],
   "source": []
  },
  {
   "cell_type": "code",
   "execution_count": null,
   "metadata": {},
   "outputs": [],
   "source": []
  },
  {
   "cell_type": "code",
   "execution_count": null,
   "metadata": {},
   "outputs": [],
   "source": []
  },
  {
   "cell_type": "code",
   "execution_count": null,
   "metadata": {},
   "outputs": [],
   "source": []
  },
  {
   "cell_type": "code",
   "execution_count": null,
   "metadata": {},
   "outputs": [],
   "source": []
  },
  {
   "cell_type": "code",
   "execution_count": null,
   "metadata": {},
   "outputs": [],
   "source": []
  },
  {
   "cell_type": "code",
   "execution_count": null,
   "metadata": {},
   "outputs": [],
   "source": []
  },
  {
   "cell_type": "code",
   "execution_count": null,
   "metadata": {},
   "outputs": [],
   "source": []
  },
  {
   "cell_type": "code",
   "execution_count": null,
   "metadata": {},
   "outputs": [],
   "source": []
  },
  {
   "cell_type": "code",
   "execution_count": 5,
   "metadata": {},
   "outputs": [],
   "source": []
  },
  {
   "cell_type": "code",
   "execution_count": null,
   "metadata": {},
   "outputs": [],
   "source": []
  },
  {
   "cell_type": "code",
   "execution_count": 7,
   "metadata": {},
   "outputs": [],
   "source": []
  },
  {
   "cell_type": "code",
   "execution_count": null,
   "metadata": {},
   "outputs": [],
   "source": [
    "\n",
    "        "
   ]
  }
 ],
 "metadata": {
  "kernelspec": {
   "display_name": "Python 3",
   "language": "python",
   "name": "python3"
  },
  "language_info": {
   "codemirror_mode": {
    "name": "ipython",
    "version": 3
   },
   "file_extension": ".py",
   "mimetype": "text/x-python",
   "name": "python",
   "nbconvert_exporter": "python",
   "pygments_lexer": "ipython3",
   "version": "3.7.4"
  }
 },
 "nbformat": 4,
 "nbformat_minor": 2
}
